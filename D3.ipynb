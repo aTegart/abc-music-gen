{
  "nbformat": 4,
  "nbformat_minor": 0,
  "metadata": {
    "colab": {
      "name": "D3.ipynb",
      "provenance": [],
      "collapsed_sections": [],
      "include_colab_link": true
    },
    "kernelspec": {
      "name": "python3",
      "display_name": "Python 3"
    },
    "accelerator": "GPU"
  },
  "cells": [
    {
      "cell_type": "markdown",
      "metadata": {
        "id": "view-in-github",
        "colab_type": "text"
      },
      "source": [
        "<a href=\"https://colab.research.google.com/github/aTegart/abc-music-gen/blob/main/D3.ipynb\" target=\"_parent\"><img src=\"https://colab.research.google.com/assets/colab-badge.svg\" alt=\"Open In Colab\"/></a>"
      ]
    },
    {
      "cell_type": "code",
      "metadata": {
        "id": "--rVuQodn4Mj",
        "outputId": "8e811bf0-0b7b-4702-b687-d9ef115e1921",
        "colab": {
          "base_uri": "https://localhost:8080/"
        }
      },
      "source": [
        "from google.colab import drive\n",
        "#drive.mount('/content/drive')\n",
        "drive.mount(\"/content/drive\", force_remount=True)"
      ],
      "execution_count": 2,
      "outputs": [
        {
          "output_type": "stream",
          "text": [
            "Mounted at /content/drive\n"
          ],
          "name": "stdout"
        }
      ]
    },
    {
      "cell_type": "markdown",
      "metadata": {
        "id": "xGKN1J5mEANa"
      },
      "source": [
        "Check position\n"
      ]
    },
    {
      "cell_type": "code",
      "metadata": {
        "id": "rI9EDxUcQcM4",
        "outputId": "5606d72a-32d6-4e00-c14f-8b254db4852c",
        "colab": {
          "base_uri": "https://localhost:8080/"
        }
      },
      "source": [
        "!pwd\n",
        "!cd './drive/My Drive/'\n",
        "!pwd"
      ],
      "execution_count": 3,
      "outputs": [
        {
          "output_type": "stream",
          "text": [
            "/content\n",
            "/content\n"
          ],
          "name": "stdout"
        }
      ]
    },
    {
      "cell_type": "code",
      "metadata": {
        "id": "XuQrfZvQdbOy",
        "outputId": "e275f699-bc4a-4477-9f7a-5f2e6f0024b0",
        "colab": {
          "base_uri": "https://localhost:8080/"
        }
      },
      "source": [
        "from os import listdir\n",
        "from os.path import isfile, join\n",
        "import os\n",
        "#cwd = os.path.dirname(__file__)\n",
        "#list songs\n",
        "mypath = '/content/drive/My Drive/CS 486 Music Generation/' #this was previously \"myPath\" when it needed to be \"mypath\" 🤯\n",
        "#/content/drive/My Drive/CS 486 Music Generation \n",
        "#/content/drive/My Drive/CS 486 Music Generation\n",
        "folders = [f for f in listdir(mypath) if not isfile(join(mypath, f))]\n",
        "print(folders)\n",
        "allSongs = []\n",
        "for folder in folders:\n",
        "  if folder == \"montreal\": #must fix file format for other folders :(\n",
        "    for song in listdir(mypath + '/' + folder):\n",
        "      f = open(os.path.join(mypath,folder,song), \"r\")\n",
        "      text = f.read()\n",
        "      allSongs.append(text)\n",
        "print(len(allSongs))\n"
      ],
      "execution_count": 16,
      "outputs": [
        {
          "output_type": "stream",
          "text": [
            "['canad', 'montreal', 'tune arch canada']\n",
            "219\n"
          ],
          "name": "stdout"
        }
      ]
    },
    {
      "cell_type": "markdown",
      "metadata": {
        "id": "z2Or_pM9n0f4"
      },
      "source": [
        "# New Section"
      ]
    },
    {
      "cell_type": "code",
      "metadata": {
        "id": "grPcgZeLhruq"
      },
      "source": [
        "%tensorflow_version 2.x\n",
        "import tensorflow as tf \n",
        "\n",
        "# Check that we are using a GPU, if not switch runtimes\n",
        "#   using Runtime > Change Runtime Type > GPU\n",
        "assert len(tf.config.list_physical_devices('GPU')) > 0"
      ],
      "execution_count": 5,
      "outputs": []
    },
    {
      "cell_type": "code",
      "metadata": {
        "id": "2FV5lwI_kfbt",
        "outputId": "0149300b-49ef-4c1a-fa32-e7caa633f771",
        "colab": {
          "base_uri": "https://localhost:8080/"
        }
      },
      "source": [
        "# import os\n",
        "# cwd = os.path.dirname(__file__)\n",
        "# songs = []\n",
        "\n",
        "print(allSongs[200])"
      ],
      "execution_count": 17,
      "outputs": [
        {
          "output_type": "stream",
          "text": [
            "X:139\n",
            "T:Valse Saint Jean\n",
            "C:Patrick Bouffard\n",
            "M:3/4\n",
            "K:D\n",
            "A3 G F2 |A2 G2 F2 |GA B4 |B2 GA GF |G3 F E2 |G2 F2 E2 |FG A4 |A2 AB A^G |\n",
            "A3 G F2 |A2 G2 F2 |GA B4 |c2 d2 B2 |A3 G F2 |A2 G2 E2 |1D6 |D6 :|2 D6 |D2 AB A^G |:\n",
            "A2 AB A^G |A2 AB A^G |A^G AB AG |G2 GA GF |G2 GA GF |G2 GA GF |\n",
            "GF GA Bc |B2 AB A^G |A2 AB A^G |A2 AB A^G |A^G AB AG |\n",
            "G2 GA GF |G2 GA GF |G2 GA GF |GF GA Bc |1d2 AB A^G :|2d6 |]\n"
          ],
          "name": "stdout"
        }
      ]
    }
  ]
}