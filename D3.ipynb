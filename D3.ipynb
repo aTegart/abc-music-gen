{
  "nbformat": 4,
  "nbformat_minor": 0,
  "metadata": {
    "colab": {
      "name": "D3.ipynb",
      "provenance": [],
      "collapsed_sections": [],
      "toc_visible": true,
      "include_colab_link": true
    },
    "kernelspec": {
      "name": "python3",
      "display_name": "Python 3"
    },
    "accelerator": "GPU"
  },
  "cells": [
    {
      "cell_type": "markdown",
      "metadata": {
        "id": "view-in-github",
        "colab_type": "text"
      },
      "source": [
        "<a href=\"https://colab.research.google.com/github/aTegart/abc-music-gen/blob/main/D3.ipynb\" target=\"_parent\"><img src=\"https://colab.research.google.com/assets/colab-badge.svg\" alt=\"Open In Colab\"/></a>"
      ]
    },
    {
      "cell_type": "markdown",
      "metadata": {
        "id": "2F9xLu1WJLmw"
      },
      "source": [
        "##Getting set up:\n",
        "\n",
        "You will be connecting to your personal google drive, so make sure you have '/content/drive/My Drive/CS 486 Music Generation/' present (without the ending space, so Celine I changed your folder name). This code now reads from all song folders. Please make sure you are on the latest version of the songs, because on Nov 11 changes were made to filetypes and to remove accented characters. When uploading files to your personal google drive, make sure to have \"convert uploads\" unchecked in your settings.\n",
        "\n",
        "Remember you need to authenticate when you remount, and copy the auth code from the link.\n",
        "\n",
        "\n",
        "\n"
      ]
    },
    {
      "cell_type": "code",
      "metadata": {
        "id": "--rVuQodn4Mj",
        "outputId": "b0c7d892-69db-4630-9628-2e0ec861c56e",
        "colab": {
          "base_uri": "https://localhost:8080/"
        }
      },
      "source": [
        "from google.colab import drive\n",
        "#drive.mount('/content/drive')\n",
        "drive.mount(\"/content/drive\", force_remount=True)"
      ],
      "execution_count": 3,
      "outputs": [
        {
          "output_type": "stream",
          "text": [
            "Mounted at /content/drive\n"
          ],
          "name": "stdout"
        }
      ]
    },
    {
      "cell_type": "markdown",
      "metadata": {
        "id": "xGKN1J5mEANa"
      },
      "source": [
        "Check position\n"
      ]
    },
    {
      "cell_type": "code",
      "metadata": {
        "id": "rI9EDxUcQcM4",
        "outputId": "b6f7cae1-0cbb-4505-fbef-19d3a2f3c229",
        "colab": {
          "base_uri": "https://localhost:8080/"
        }
      },
      "source": [
        "!pwd\n",
        "!cd './drive/My Drive/'\n",
        "!pwd"
      ],
      "execution_count": 4,
      "outputs": [
        {
          "output_type": "stream",
          "text": [
            "/content\n",
            "/content\n"
          ],
          "name": "stdout"
        }
      ]
    },
    {
      "cell_type": "markdown",
      "metadata": {
        "id": "fP2eOWc-LlhK"
      },
      "source": [
        "## Preprocess the songs"
      ]
    },
    {
      "cell_type": "code",
      "metadata": {
        "id": "XuQrfZvQdbOy",
        "outputId": "1f5304f4-65f5-4cac-f97d-40c2073dde7f",
        "colab": {
          "base_uri": "https://localhost:8080/"
        }
      },
      "source": [
        "from os import listdir\n",
        "from os.path import isfile, join\n",
        "import os\n",
        "\n",
        "#list songs\n",
        "mypath = '/content/drive/My Drive/CS 486 Music Generation/' #this was previously \"myPath\" when it needed to be \"mypath\" 🤯\n",
        "#/content/drive/My Drive/CS 486 Music Generation \n",
        "#/content/drive/My Drive/CS 486 Music Generation\n",
        "folders = [f for f in listdir(mypath) if not isfile(join(mypath, f))]\n",
        "print(folders)\n",
        "allSongs = []\n",
        "for folder in folders:\n",
        "  #if folder == \"montreal\":\n",
        "  for song in listdir(mypath + '/' + folder):\n",
        "    print(folder+\" \"+song)\n",
        "    f = open(os.path.join(mypath,folder,song), \"r\")\n",
        "    text = f.read()\n",
        "    allSongs.append(text)\n",
        "print(len(allSongs))\n"
      ],
      "execution_count": 5,
      "outputs": [
        {
          "output_type": "stream",
          "text": [
            "['tune arch canada', 'canad', 'montreal']\n",
            "tune arch canada Iles de la Madeleine - K A.txt\n",
            "tune arch canada My Lily - K A.txt\n",
            "tune arch canada Valse-Clog Guilmette - K Bb.txt\n",
            "tune arch canada Ookpik Waltz - K G.txt\n",
            "tune arch canada The Black Velvet Waltz - K C.txt\n",
            "tune arch canada Hilo marche - K F.txt\n",
            "tune arch canada Duke of Gordons Birth Day - K G.txt\n",
            "tune arch canada John Morrison Assynt House - K A Dorian.txt\n",
            "tune arch canada Reel du courrier - K Bb.txt\n",
            "tune arch canada Patins de Pauline - K G.txt\n",
            "tune arch canada Journeymans Jig - K Dmaj.txt\n",
            "tune arch canada Reel de Beloeil - K D.txt\n",
            "tune arch canada 91st at Modder River - Bmin.txt\n",
            "tune arch canada Macton Reel - K D.txt\n",
            "tune arch canada Quadrille canadien - K G.txt\n",
            "tune arch canada Pappy Dailys Breakdown - K Bb.txt\n",
            "tune arch canada Celtic Cousins - K F.txt\n",
            "tune arch canada Alex and Maureens Two-Step - K G.txt\n",
            "tune arch canada Loup Garou - K A.txt\n",
            "tune arch canada Reel de la Pointe Bleue - K G.txt\n",
            "tune arch canada Reel du pˆcheur - K Bb.txt\n",
            "tune arch canada Set de Vaudreuil 4eme partie - K G.txt\n",
            "tune arch canada Johnny Cope - K Am.txt\n",
            "tune arch canada Fall of Paris - K D.txt\n",
            "tune arch canada Marche du 64eme bataillon - K D.txt\n",
            "tune arch canada Bog in Lochan - K Edor.txt\n",
            "tune arch canada Tarte aux pommes - K A.txt\n",
            "tune arch canada Ann MacQuarries Reel - K A.txt\n",
            "tune arch canada The Rakes of Mallow - K G.txt\n",
            "tune arch canada Lochleven Castle - K Amin.txt\n",
            "tune arch canada Lightning Hornpipe - K Bb.txt\n",
            "tune arch canada Pere Leon - K G.txt\n",
            "tune arch canada Reel des eskimos - K A.txt\n",
            "tune arch canada Bonapartes March - K Amin.txt\n",
            "tune arch canada Bony Part Crossing the Alps - K Amin.txt\n",
            "tune arch canada Andy Dejarlis Jig - K E.txt\n",
            "tune arch canada Rubber Dolly - K A.txt\n",
            "tune arch canada Father Angus MacDonnell - K G.txt\n",
            "tune arch canada Jack Halls Jig - K G.txt\n",
            "tune arch canada Dudley Street - K E.txt\n",
            "tune arch canada Joys of Wedlock - K G.txt\n",
            "tune arch canada Wedding Day - K D.txt\n",
            "tune arch canada Andre Alain - K D.txt\n",
            "tune arch canada Turkey in the Straw - K G.txt\n",
            "tune arch canada Andrews Waltz - K D.txt\n",
            "tune arch canada Westphalia Waltz - K G.txt\n",
            "tune arch canada Morags Wedding - K D.txt\n",
            "tune arch canada Donald Angus Beatons Strathspey - K A.txt\n",
            "tune arch canada Hey, Johnny Lad - K A.txt\n",
            "tune arch canada Garcon Volage - K G.txt\n",
            "tune arch canada Valleyfield - K D.txt\n",
            "tune arch canada Reel des poilus - K A.txt\n",
            "tune arch canada Reel du capitaine - K A.txt\n",
            "tune arch canada Reel du cowboy - K G.txt\n",
            "tune arch canada Pretty Betty Reel - K D.txt\n",
            "tune arch canada Sheepskin and Bees Wax - K Ador.txt\n",
            "tune arch canada River John Sunset Waltz - K D major.txt\n",
            "tune arch canada Quadrille de Rimouski 4eme partie - K G.txt\n",
            "tune arch canada Green growes the Rashes - K D.txt\n",
            "tune arch canada Quadrille des Laurentides 1ere partie - K G.txt\n",
            "tune arch canada Homeward Bound - K D.txt\n",
            "tune arch canada Reel de Gaspe - K G.txt\n",
            "tune arch canada Uncle Peters Tune - K G.txt\n",
            "tune arch canada Fiddle Head Reel - K G.txt\n",
            "tune arch canada Listen to the Mocking Bird - K G.txt\n",
            "tune arch canada Opera Reel - K D.txt\n",
            "tune arch canada Reel des oignons - D.txt\n",
            "tune arch canada Monkeys Wedding - K F.txt\n",
            "tune arch canada Willow Tree - K A.txt\n",
            "tune arch canada The Mocassin Shuffle - K C.txt\n",
            "tune arch canada Braes of Aughtertyre - K D.txt\n",
            "tune arch canada Reel de la Pistroli - K D.txt\n",
            "tune arch canada Elmers Tune - K Dmaj.txt\n",
            "tune arch canada Reeds - K C.txt\n",
            "tune arch canada Lord Moira - K F.txt\n",
            "tune arch canada Mrs Gordon of Knockespoch - K F.txt\n",
            "canad Lesley_s welcome return from Canada - K G.txt\n",
            "canad Blind Man_s Reel - K D.txt\n",
            "canad la Grandeuse - K D.txt\n",
            "canad Green Fields Of Canada - K Dmix.txt\n",
            "canad Golden Wedding Reel - K G.txt\n",
            "canad Buddy_s Order of Canada - K E.txt\n",
            "canad THE 48th HIGHLANDERS OF CANADA - K HP.txt\n",
            "canad Tea Gardens Jig - K G.txt\n",
            "canad the Mist-Covered Mountain - K ADor.txt\n",
            "canad Golden Eagle Hornpipe - K G.txt\n",
            "canad In Memory of Herbie MacLeod - K A.txt\n",
            "canad Fraser_s Jig - K Gdor.txt\n",
            "canad French Canadian Four step - K G.txt\n",
            "canad French Canadian Reel - K D.txt\n",
            "canad French Canadian Waltz - K D.txt\n",
            "canad Frenchie_s Reel - K Bb.txt\n",
            "canad Joey Beaton - K D.txt\n",
            "canad Jordan_s Reel - K Bb.txt\n",
            "canad Whiskey Before Breakfast - K D.txt\n",
            "canad Old Faithful - K D.txt\n",
            "canad The Old Man and Old Woman - K G.txt\n",
            "canad MacArthur Road #1 - K D.txt\n",
            "canad Mac Morin_s Jig - K Ddor.txt\n",
            "canad Madame Renaud - K G.txt\n",
            "canad Maple Leaf Jig - K G.txt\n",
            "canad Oh Canada by Skjald - K C.txt\n",
            "canad Liam_s Bear - K A.txt\n",
            "canad the New Fiddle - K E.txt\n",
            "canad the New Kelvin Bridge 1891 - K A.txt\n",
            "canad la Belle Catherine - K C.txt\n",
            "canad Betty Lou_s Reel - K D.txt\n",
            "canad Valse des iles de la madeleine - K A.txt\n",
            "canad La valse des jouets - K D.txt\n",
            "canad My Cape Breton Home - K G.txt\n",
            "canad My Friend Buddy - K F.txt\n",
            "canad O_Mahoney_s - K DMaj.txt\n",
            "canad Ciaran Tourish_s Reel - K D.txt\n",
            "canad la Bastrange - K D.txt\n",
            "canad Bay of Fundy - K D.txt\n",
            "canad Allens Reel - K A.txt\n",
            "canad Alouette - K G.txt\n",
            "canad Iggie and Squiggie - K D.txt\n",
            "canad 8x32S 3C - K D.txt\n",
            "canad Donegal Reel - K D.txt\n",
            "canad Don Messer_s Breakdown - K C.txt\n",
            "canad Don Side - K G.txt\n",
            "canad Don Tremain_s Reel - K D.txt\n",
            "canad Double Clog - K Bb.txt\n",
            "canad Dowd_s Favorite - Gm.txt\n",
            "canad Wake Up to Cape Breton - K EMix.txt\n",
            "canad the Way to Judique - K A.txt\n",
            "canad Mussels in the Corner - K A.txt\n",
            "canad Big John McNeil - K A.txt\n",
            "canad Polka from Don Messer - K A.txt\n",
            "canad CanadayIO - K F.txt\n",
            "canad CANADEEIO - K G.txt\n",
            "canad Canadian Barn Dance - K C.txt\n",
            "canad the CANADIAN BOAT SONG - K G.txt\n",
            "canad CANADIAN BREAKDOWN - K D.txt\n",
            "canad Canadian Club - K A.txt\n",
            "canad Canadian Four Step - K F.txt\n",
            "canad The Canadian Scottish CYMRU - K HP.txt\n",
            "canad Canadian Sunset - K F.txt\n",
            "canad The Canadian Waltz - K D.txt\n",
            "canad Cape Breton Dream - K Amaj.txt\n",
            "canad Capers Jig - K C.txt\n",
            "canad The Carfuffle Shuffle - K C.txt\n",
            "canad Caribou - K Edor.txt\n",
            "canad Carl Canada - K Bdor.txt\n",
            "canad Aunt Mary_s Canadian Jig - K D.txt\n",
            "canad Paddy On The Turnpike - K G.txt\n",
            "canad Paddy_s Trip to Scotland - K D.txt\n",
            "canad Pays de Haut - K D.txt\n",
            "canad Come To Me in Canada - K E.txt\n",
            "canad Cotillon d_Avila LeBlanc - K D.txt\n",
            "canad Ornamentation from Andy De Jarlis - K A.txt\n",
            "canad Danse de chez nous - K G.txt\n",
            "canad Woodridge Breakdown - K A.txt\n",
            "canad The Peerie Werrie - K G.txt\n",
            "canad Peter Feeney_s Dream - K DMaj.txt\n",
            "canad Judy_s Reel - K D.txt\n",
            "canad Bobby Brown_s Canadian Breakdown - K G.txt\n",
            "canad Surf and Turf bridge tune - K D.txt\n",
            "canad Andy de Jarlis_ Jig v2 - K E.txt\n",
            "canad Angus Campbell - K A.txt\n",
            "canad As written by Andy De Jarlis - K Em.txt\n",
            "canad Pigeon on the Gate - K Gm.txt\n",
            "canad NOBLE LADS OF CANADA - K G.txt\n",
            "canad a Branch Tune - K G.txt\n",
            "canad O Canada - K G.txt\n",
            "canad Un Canadien Errant - K D.txt\n",
            "canad The High Country - K D.txt\n",
            "canad The High Level - K Bb.txt\n",
            "canad the Feller from Fortune - K G.txt\n",
            "canad Mr Gordon of Hallhead - K G.txt\n",
            "canad Raemona_s Waltz - K G.txt\n",
            "canad Archie Menzie_s - K F.txt\n",
            "canad Mouth of the Tobique - K G.txt\n",
            "canad Jean_s Reel - K G.txt\n",
            "canad Killavail Fancy - K G.txt\n",
            "canad The Red Coat - K G.txt\n",
            "canad Reel Canadien Francais - K D.txt\n",
            "canad Reel de Chateauguay - K g.txt\n",
            "canad Reel de la Tuque Bleue - K F.txt\n",
            "canad Reel de L_Enfant - K G.txt\n",
            "canad Reel des Jeunes Maries - K D.txt\n",
            "canad Reel du Canada - K G.txt\n",
            "canad Reel Du Goglu - K D.txt\n",
            "canad Reel du Printemps - K A.txt\n",
            "canad Reel Indien - K G.txt\n",
            "canad The Reel of the Canadian Scottish - K HP.txt\n",
            "canad Avila Leblanc - K D.txt\n",
            "canad Gigue Canadienne - K G.txt\n",
            "canad Gigue de Terrebonne - K D.txt\n",
            "canad Gillis_ Favorite - K D.txt\n",
            "canad Iles de la Madeleine - K F.txt\n",
            "canad The Saint Lawrence Jig - K D.txt\n",
            "canad Lots of Fish in Bonavist_ Harbour - K G.txt\n",
            "canad Louis Waltz - K D.txt\n",
            "canad Richibucto Reel - K G.txt\n",
            "canad McArthur_s Reel - K D.txt\n",
            "canad Gaspe Reel - K D.txt\n",
            "canad Tom Trainor_s Jig - K E.txt\n",
            "canad la Traversee - K D.txt\n",
            "canad Fiona_s Return from Canada - K G.txt\n",
            "canad Reel Beatrice - K Am.txt\n",
            "canad Sam Cormier Reel - K E.txt\n",
            "canad Cotillion a Huit - K G.txt\n",
            "canad Valse a Jessie - K D.txt\n",
            "montreal Aimee Gagnon - K G.txt\n",
            "montreal August - K F.txt\n",
            "montreal Berceuse pour Hannah - K D.txt\n",
            "montreal Bonjour, comment ca va_ - K G.txt\n",
            "montreal Brandy - K G.txt\n",
            "montreal Breakfast at the Methes - K Ddor.txt\n",
            "montreal Danse de campagne - K D.txt\n",
            "montreal Gigue Andre Alain - K D.txt\n",
            "montreal Gigue back a back - K D.txt\n",
            "montreal Gigue des capuchons - K D.txt\n",
            "montreal Gigue du Demon - K D.txt\n",
            "montreal Gigue du Diamant Bleu - K D.txt\n",
            "montreal Hommage a Dorothee - K D.txt\n",
            "montreal La belle Catherine - K D.txt\n",
            "montreal La chaise noire - K Gmin.txt\n",
            "montreal La Complainte du Folkloriste - K D.txt\n",
            "montreal Le bonhomme et la bonne femme - K D .txt\n",
            "montreal Le brandy - K D.txt\n",
            "montreal Le Chat Noir - K Gmin.txt\n",
            "montreal Valse du coq - K D.txt\n",
            "montreal Reel Beatrice - K Amin.txt\n",
            "montreal Reel Beaulieu - K Amix.txt\n",
            "montreal Reel des citrouilles - K Gmin.txt\n",
            "montreal Valse des bebes - K D.txt\n",
            "montreal Reel des cinq jumelles - K D.txt\n",
            "montreal Reel de Bellechasse - K D.txt\n",
            "montreal Reel de Drummondville - K G.txt\n",
            "montreal Reel de Chateauguay - K G.txt\n",
            "montreal Reel des accordeonistes - K Amix.txt\n",
            "montreal Reel Arthur - K A.txt\n",
            "montreal Reel Anne Marie - K A.txt\n",
            "montreal Reel du carrefour - K C.txt\n",
            "montreal Valse Bernadette - K D.txt\n",
            "montreal Reel Chicoutimi - K A.txt\n",
            "montreal Valse d_Hiver - K D.txt\n",
            "montreal Marche au camp - K G.txt\n",
            "montreal Reel Andre Alain - K D.txt\n",
            "montreal Reel de Beris - K A.txt\n",
            "montreal Reel des Chantiers - K D.txt\n",
            "montreal Valse des Bois - K Emin.txt\n",
            "montreal Reel du combat - K Ddor.txt\n",
            "montreal Reel du Bonhomme - K D.txt\n",
            "montreal Reel de Beloeil - K D.txt\n",
            "montreal Reel de Caribou - K D.txt\n",
            "montreal Reel Antoinette - K D.txt\n",
            "montreal Reel d_Alison - K D.txt\n",
            "montreal Reel a Cedulie - K F.txt\n",
            "montreal Reel Africain - K D.txt\n",
            "montreal Reel des Eboulements - K A.txt\n",
            "montreal Hommage a Edmond Parizeau - K A.txt\n",
            "montreal Marche des eleves - K D.txt\n",
            "montreal Reel des Esquimaux - K G.txt\n",
            "montreal Reel Eugene - K Bmin.txt\n",
            "montreal Reel du Faubourg - K D.txt\n",
            "montreal La Fee des dents - K G.txt\n",
            "montreal Fleur de mandragore - K A.txt\n",
            "montreal Forcalquier - K D.txt\n",
            "montreal Le Gadeliderot - K D.txt\n",
            "montreal Le Galant - K C.txt\n",
            "montreal La Galop de Malbaie - D.txt\n",
            "montreal La galope de Baie St-Paul - K D.txt\n",
            "montreal Reel du Gateaux aux bannanes - K C.txt\n",
            "montreal Hommage a Gaetan Roy - K D.txt\n",
            "montreal La gigue du sans travail - K D.txt\n",
            "montreal Hommage a Gilles Laprise - K D.txt\n",
            "montreal Reel du goglu - K D.txt\n",
            "montreal Golden Colorado - K D.txt\n",
            "montreal La Grande gigue simple - K D.txt\n",
            "montreal La grande traversee - K D.txt\n",
            "montreal La Guenille - K D.txt\n",
            "montreal Hommage a Guy Thomas - K D.txt\n",
            "montreal Hema - K D.txt\n",
            "montreal Histoire de mon coq - K G.txt\n",
            "montreal Hounds Tune - K D.txt\n",
            "montreal Reel Iroquois - K D.txt\n",
            "montreal Issoudun - K A.txt\n",
            "montreal Jack McCann - K Ador.txt\n",
            "montreal Hommage a Jimmy de Genova - K Edor.txt\n",
            "montreal Hommage a Jos Bouchard - K D.txt\n",
            "montreal reel de Jos Cormier - K D.txt\n",
            "montreal Le 24 juin - K G.txt\n",
            "montreal Reel a Jules Verret - K D.txt\n",
            "montreal Galope de Jules Verret - K D.txt\n",
            "montreal Kenneth Murphy - K G.txt\n",
            "montreal Korolenko_s Backyeard - K G.txt\n",
            "montreal Galope du lac St-Charles - K D.txt\n",
            "montreal l_Air mignonne - K A.txt\n",
            "montreal L_alambis - K D.txt\n",
            "montreal Valse de l_amitie - K D.txt\n",
            "montreal Reel de l_amitie - K D.txt\n",
            "montreal Gigue de l_egouttage - K G.txt\n",
            "montreal Reel du lendemain - K Gmin.txt\n",
            "montreal Gigue du lendemain - K D.txt\n",
            "montreal Levis Beaulieu - K A.txt\n",
            "montreal Reel des lilas - K G.txt\n",
            "montreal Little Jimmy Stephen - K Dmin.txt\n",
            "montreal reel de l_Obstineux - K D.txt\n",
            "montreal Louis Cyr - K G.txt\n",
            "montreal Reel de Louis Gagnon - K G.txt\n",
            "montreal Reel de L_Outaouais - K D.txt\n",
            "montreal The Lucky Trapper - K G.txt\n",
            "montreal Gigue de M. Blanchette - K D.txt\n",
            "montreal Gigue de mademe Saint Germain - K D.txt\n",
            "montreal Maison de Glace - K D.txt\n",
            "montreal Galope de la Malbaie - K D.txt\n",
            "montreal La marche de l_ouverture - K D.txt\n",
            "montreal La Marche Printaniere - K D.txt\n",
            "montreal Margaretsville Reel - K Gmin.txt\n",
            "montreal Reel de Mattawa - K Edor.txt\n",
            "montreal Le Mecanicien - K D.txt\n",
            "montreal Reel Mimeault - K D.txt\n",
            "montreal Hommage a monsieur Lecourt - K G.txt\n",
            "montreal Reel de Mont Marie - K D.txt\n",
            "montreal Quadrilles des Montagnards Laurentiens - K D.txt\n",
            "montreal Reel de Montebello - K Amin.txt\n",
            "montreal Reel de Montmagny - K D.txt\n",
            "montreal Hommage aux musiciens traditionnels - K D.txt\n",
            "montreal Reel du nord - K Bmin.txt\n",
            "montreal Nuit Sauvage - K Dmin.txt\n",
            "montreal reel des oignons - K D.txt\n",
            "montreal Old French - K D.txt\n",
            "montreal Le parcour - K D.txt\n",
            "montreal Gigue de paroissiens - K D.txt\n",
            "montreal Partie de Quadrilles - K D.txt\n",
            "montreal Reel du Patineur - K A.txt\n",
            "montreal Les patins de Pauline - K G.txt\n",
            "montreal Gigue des patriotes - K Emin.txt\n",
            "montreal Reel du pendu - K G.txt\n",
            "montreal Gigue du Pere Mathias - K D.txt\n",
            "montreal 6_8 de Petit Sarny - K Emin.txt\n",
            "montreal La petite galope de Jules Verret - K D.txt\n",
            "montreal Marche Philippe Bruneau.txt\n",
            "montreal Hommage a Phillippe Bruneau - K D.txt\n",
            "montreal Hommage a Pitou Boudreault - K D.txt\n",
            "montreal Plan 9 - K G.txt\n",
            "montreal Gigue du Plateau Mont-Royal - K D.txt\n",
            "montreal Reel A Polo - K D.txt\n",
            "montreal Le pommeau 1 - K A.txt\n",
            "montreal Reel de Port Joli - K D.txt\n",
            "montreal Le poteau blanc - K A.txt\n",
            "montreal Marche pour Anne-Marie - K Dmin.txt\n",
            "montreal Le printemps - K D.txt\n",
            "montreal le p_tit bal a l_huile - K D.txt\n",
            "montreal Reel des p_tits-minous - K G.txt\n",
            "montreal Le quadrille Beauharnois - K C.txt\n",
            "montreal Reel a quatre d_Antonio Gautier - K G.txt\n",
            "montreal Reel des quatre patates - K D.txt\n",
            "montreal Quatres fer en l_air - K D.txt\n",
            "montreal Marche du queteux Pomerleau - K G.txt\n",
            "montreal Reel au ralenti - K F.txt\n",
            "montreal le reel des menteries - K D.txt\n",
            "montreal Le Releveur - K D.txt\n",
            "montreal Galope du repertoire de Gaston Nolet - K D.txt\n",
            "montreal Reel du repertoire d_Isidore Soucy - K D.txt\n",
            "montreal repertoire Francine Desjardins - K D.txt\n",
            "montreal repertoire les freres Pigeon - K D.txt\n",
            "montreal le reve du queteux - K F.txt\n",
            "montreal Quadrille de Riviere du Loup - K D.txt\n",
            "montreal Reel robin - K A.txt\n",
            "montreal Ronfleuse Gobeil - K D.txt\n",
            "montreal Le ruisseau francais - K D.txt\n",
            "montreal Valse Saint Jean - K D.txt\n",
            "montreal Reel Saint Jean - K D.txt\n",
            "montreal Saint Ligori - K G.txt\n",
            "montreal Reel Saint Paul - K A.txt\n",
            "montreal Reel de Saint Simeon - K D.txt\n",
            "montreal le 125eme de Sainte Louise - K G.txt\n",
            "montreal le 125ieme de Sainte Louise - K G.txt\n",
            "montreal Reel Sainte Louise - K D.txt\n",
            "montreal Gigue de Salon - K A.txt\n",
            "montreal Reel de la Sauvagine - K A.txt\n",
            "montreal Reel du semeur - K D.txt\n",
            "montreal Set americain - K D.txt\n",
            "montreal Sheepskin and Beeswax - K Ador.txt\n",
            "montreal Reel de Sherbrooke - K G.txt\n",
            "montreal Reel de Siamois - K G.txt\n",
            "montreal Son of a Bear - K A.txt\n",
            "montreal Reel St Antoine - K A.txt\n",
            "montreal Reel de St Esprit - K D.txt\n",
            "montreal Reel St Marc - K Amin.txt\n",
            "montreal St-Etienne - D.txt\n",
            "montreal Reel St-Joseph - K D.txt\n",
            "montreal Hommage a Stephane Landry - K Bmin.txt\n",
            "montreal Gigue du sucre - K G.txt\n",
            "montreal Reel de Tadoussac - K G.txt\n",
            "montreal Reel de tante Cecile - K G.txt\n",
            "montreal Reel du temple - K D.txt\n",
            "montreal Gigue de Terrebonne - K D.txt\n",
            "montreal Marche de Thomas Pomerleau 1 - K D.txt\n",
            "montreal Ti-Jean Morin - K D.txt\n",
            "montreal Reel Ti-Me - K D.txt\n",
            "montreal le Tourment - K G.txt\n",
            "montreal Reel de traversier - K D.txt\n",
            "montreal Gigue a Trois - K G.txt\n",
            "montreal Reel du Tricentenaire -  K D.txt\n",
            "montreal Yves Lambert Irish Melody - K D.txt\n",
            "montreal Reel de la tuque bleue - K F.txt\n",
            "montreal Turlutte acadienne - K G.txt\n",
            "montreal Un air trompeur - K D.txt\n",
            "montreal Unknown - K D.txt\n",
            "montreal Reel des vacanciers - K Dmin.txt\n",
            "montreal Reel de Valleyfield - K D.txt\n",
            "montreal La valse des cerfs-volants - K Bmin.txt\n",
            "montreal La valse des jouets - K D.txt\n",
            "montreal La valse des voyages - K G.txt\n",
            "montreal La Valse Laurencienne - K Bmin.txt\n",
            "montreal Valse-clog Lacroix - K D.txt\n",
            "montreal Vendredi Trad - K A.txt\n",
            "montreal Reel du Verre-Bouteille.txt\n",
            "montreal Reel des vieux garcons - K D.txt\n",
            "montreal reel de vieux moulin - K D.txt\n",
            "montreal Violon guerisseur - K D.txt\n",
            "montreal Le Viree dans Villeray - K A.txt\n",
            "montreal Le voyage d_Eric St-Pierre - K D.txt\n",
            "montreal Valse Westphalia - K D.txt\n",
            "montreal The Woodchopper_s Breakdown - K D.txt\n",
            "montreal The Woolen Cap - K Edor.txt\n",
            "montreal Hommage a Yvan Brault - K A.txt\n",
            "423\n"
          ],
          "name": "stdout"
        }
      ]
    },
    {
      "cell_type": "code",
      "metadata": {
        "id": "2FV5lwI_kfbt",
        "outputId": "73cd4889-707d-4d3d-bdfb-740462138da9",
        "colab": {
          "base_uri": "https://localhost:8080/"
        }
      },
      "source": [
        "print(allSongs[100])"
      ],
      "execution_count": 6,
      "outputs": [
        {
          "output_type": "stream",
          "text": [
            "X: 1\n",
            "T: Maple Leaf Jig\n",
            "C: Trad\n",
            "R: jig\n",
            "Z: John Chambers <jc:trillian.mit.edu>\n",
            "B: NEFR #9\n",
            "M: 6/8\n",
            "L: 1/8\n",
            "K: G\n",
            "A \\\n",
            "| \"G\"B2G \"C\"G2E | \"G\"D2B, B,2G | \"D7\"F2A AGF | \"G\"G2B BGA \\\n",
            "| \"G\"B2G \"C\"G2E | \"G\"D2B, B,2G | \"D7\"F2A AGF | \"G\"G3- G2 :|\n",
            "K: D\n",
            "|: F/G/ \\\n",
            "| \"D\"A2A A^GA | \"(A7)\"BA^G \"D\"A2d | \"A7\"d2c c2e | \"D\"e2d dFG \\\n",
            "| \"D\"A2A A^GA | \"(A7)\"BA^G \"D\"A2d | \"A7\"d2c cBc |1 \"D\"d3- d2 :|2 \"D\"Hd3 \"D7\"=c3 |]\n",
            "\n"
          ],
          "name": "stdout"
        }
      ]
    },
    {
      "cell_type": "code",
      "metadata": {
        "id": "6kLfdwD7uA53",
        "outputId": "82cb340c-f1ee-452d-922a-ea9afe374e96",
        "colab": {
          "base_uri": "https://localhost:8080/"
        }
      },
      "source": [
        "#Combine songs into one long string\n",
        "spacing = \"\\n\\n\"\n",
        "combined_songs = spacing.join(allSongs)\n",
        "\n",
        "#Find vocabulary for vectorization (unique characters in string)\n",
        "uniq_chars = sorted(set(combined_songs))\n",
        "print(len(uniq_chars))\n",
        "\n",
        "char_num_map = {c:i for i, c in enumerate(uniq_chars)}\n",
        "num_char_map = {i:c for i, c in enumerate(uniq_chars)}\n",
        "\n",
        "#proof that the mapping holds both ways\n",
        "print('{')\n",
        "for char,_ in zip(char_num_map, range(20)):\n",
        "    print('  {:4s}: {:3d},'.format(repr(char), char_num_map[char]))\n",
        "print('  ...\\n}')\n",
        "\n",
        "print('{')\n",
        "for char,_ in zip(num_char_map, range(20)):\n",
        "    print('  {:4s}: {:3s},'.format(repr(char), num_char_map[char]))\n",
        "print('  ...\\n}')"
      ],
      "execution_count": 7,
      "outputs": [
        {
          "output_type": "stream",
          "text": [
            "112\n",
            "{\n",
            "  '\\t':   0,\n",
            "  '\\n':   1,\n",
            "  '\\x1a':   2,\n",
            "  ' ' :   3,\n",
            "  '!' :   4,\n",
            "  '\"' :   5,\n",
            "  '#' :   6,\n",
            "  '%' :   7,\n",
            "  '&' :   8,\n",
            "  \"'\" :   9,\n",
            "  '(' :  10,\n",
            "  ')' :  11,\n",
            "  '*' :  12,\n",
            "  '+' :  13,\n",
            "  ',' :  14,\n",
            "  '-' :  15,\n",
            "  '.' :  16,\n",
            "  '/' :  17,\n",
            "  '0' :  18,\n",
            "  '1' :  19,\n",
            "  ...\n",
            "}\n",
            "{\n",
            "  0   : \t  ,\n",
            "  1   : \n",
            "  ,\n",
            "  2   : \u001a  ,\n",
            "  3   :    ,\n",
            "  4   : !  ,\n",
            "  5   : \"  ,\n",
            "  6   : #  ,\n",
            "  7   : %  ,\n",
            "  8   : &  ,\n",
            "  9   : '  ,\n",
            "  10  : (  ,\n",
            "  11  : )  ,\n",
            "  12  : *  ,\n",
            "  13  : +  ,\n",
            "  14  : ,  ,\n",
            "  15  : -  ,\n",
            "  16  : .  ,\n",
            "  17  : /  ,\n",
            "  18  : 0  ,\n",
            "  19  : 1  ,\n",
            "  ...\n",
            "}\n"
          ],
          "name": "stdout"
        }
      ]
    },
    {
      "cell_type": "code",
      "metadata": {
        "id": "cTXB38Lg3qIA",
        "outputId": "b3331685-0974-4d7b-e225-992bff7f754d",
        "colab": {
          "base_uri": "https://localhost:8080/"
        }
      },
      "source": [
        "import numpy as np\n",
        "#Vectorize combined_songs\n",
        "# array of a num for each char in the combined_songs string\n",
        "vsongs = np.array([char_num_map[c] for c in combined_songs])\n",
        "\n",
        "print ('{} ---- characters mapped to int ----> {}'.format(repr(combined_songs[:10]), vsongs[:10]))\n",
        "# check that vectorized_songs is a numpy array\n",
        "assert isinstance(vsongs, np.ndarray), \"returned result should be a numpy array\""
      ],
      "execution_count": 8,
      "outputs": [
        {
          "output_type": "stream",
          "text": [
            "'X:414\\n%\\nT:' ---- characters mapped to int ----> [58 28 22 19 22  1  7  1 54 28]\n"
          ],
          "name": "stdout"
        }
      ]
    },
    {
      "cell_type": "code",
      "metadata": {
        "id": "szN1ypEiAWMr",
        "outputId": "9cdfbb50-49cc-4077-f570-7667fc0fcac1",
        "colab": {
          "base_uri": "https://localhost:8080/"
        }
      },
      "source": [
        "def batch(vsongs, seqlen, bsize):\n",
        "  highest_start_index = vsongs.shape[0] - 1 - seqlen\n",
        "  start_indices = np.random.choice(highest_start_index, bsize)\n",
        "\n",
        "  input = [vsongs[i : i+seqlen] for i in start_indices]\n",
        "  output = [vsongs[i+1 : i+1+seqlen] for i in start_indices]\n",
        "\n",
        "  input = np.reshape(input, [bsize, seqlen])\n",
        "  output = np.reshape(output, [bsize, seqlen])\n",
        "\n",
        "  return input, output\n",
        "\n",
        "testin, testout = batch(vsongs, 5, 2)\n",
        "#observe how testout is shifted one num forward from testin\n",
        "print(testin)\n",
        "print(testout)"
      ],
      "execution_count": 9,
      "outputs": [
        {
          "output_type": "stream",
          "text": [
            "[[28 37 93  1 46]\n",
            " [ 3 36 41 41 41]]\n",
            "[[37 93  1 46 28]\n",
            " [36 41 41 41  3]]\n"
          ],
          "name": "stdout"
        }
      ]
    },
    {
      "cell_type": "code",
      "metadata": {
        "id": "lYN3-Ty6GT2U",
        "outputId": "e290e4da-ca75-46b0-9c68-70375ccf9773",
        "colab": {
          "base_uri": "https://localhost:8080/"
        }
      },
      "source": [
        "#more testing, remove later\n",
        "\n",
        "x_batch, y_batch = batch(vsongs, seqlen=5, bsize=1)\n",
        "\n",
        "for i, (input_idx, target_idx) in enumerate(zip(np.squeeze(x_batch), np.squeeze(y_batch))):\n",
        "    print(\"Step {:3d}\".format(i))\n",
        "    print(\"  input: {} ({:s})\".format(input_idx, repr(num_char_map[input_idx])))\n",
        "    print(\"  expected output: {} ({:s})\".format(target_idx, repr(num_char_map[target_idx])))"
      ],
      "execution_count": 10,
      "outputs": [
        {
          "output_type": "stream",
          "text": [
            "Step   0\n",
            "  input: 68 ('c')\n",
            "  expected output: 35 ('A')\n",
            "Step   1\n",
            "  input: 35 ('A')\n",
            "  expected output: 3 (' ')\n",
            "Step   2\n",
            "  input: 3 (' ')\n",
            "  expected output: 39 ('E')\n",
            "Step   3\n",
            "  input: 39 ('E')\n",
            "  expected output: 35 ('A')\n",
            "Step   4\n",
            "  input: 35 ('A')\n",
            "  expected output: 68 ('c')\n"
          ],
          "name": "stdout"
        }
      ]
    },
    {
      "cell_type": "markdown",
      "metadata": {
        "id": "ii4VaUOwL-zu"
      },
      "source": [
        "## Setup Tensorflow and our ML env"
      ]
    },
    {
      "cell_type": "code",
      "metadata": {
        "id": "grPcgZeLhruq"
      },
      "source": [
        "%tensorflow_version 2.x\n",
        "import tensorflow as tf \n",
        "from tensorflow import keras\n",
        "\n",
        "# Check that we are using a GPU, if not switch runtimes\n",
        "#   using Runtime > Change Runtime Type > GPU\n",
        "assert len(tf.config.list_physical_devices('GPU')) > 0"
      ],
      "execution_count": 11,
      "outputs": []
    },
    {
      "cell_type": "code",
      "metadata": {
        "id": "ERoz9aLNEzyK"
      },
      "source": [
        "## Set up the RNN model\n",
        "def LSTM(rnn_units): \n",
        "  return keras.layers.LSTM(\n",
        "    rnn_units, \n",
        "    return_sequences=True, \n",
        "    recurrent_initializer='glorot_uniform',\n",
        "    recurrent_activation='sigmoid',\n",
        "    stateful=True,\n",
        "  )\n",
        "\n",
        "## Build the RNN Model\n",
        "def build_RNN_model(vocab_size, embedding_dim, rnn_units, batch_size):\n",
        "  model = keras.Sequential([\n",
        "    # 1: Embedding layer to transform indices into dense vectors of a fixed embedding size\n",
        "    keras.layers.Embedding(vocab_size, embedding_dim, batch_input_shape=[batch_size, None]),\n",
        "    # 2: LSTM with rnn_units number of units\n",
        "    LSTM(rnn_units),\n",
        "    # 3: Dense layer that transform the LSTM output into the vocab_size\n",
        "    keras.layers.Dense(vocab_size)\n",
        "  ])\n",
        "  return model\n",
        "\n",
        "# Build model with default hyperparameters which can be modified\n",
        "model = build_RNN_model(len(uniq_chars), embedding_dim=256, rnn_units=1024, batch_size=32)"
      ],
      "execution_count": 12,
      "outputs": []
    },
    {
      "cell_type": "markdown",
      "metadata": {
        "id": "V3Yk4kCHyHtp"
      },
      "source": [
        "### Test the RNN Model"
      ]
    },
    {
      "cell_type": "code",
      "metadata": {
        "id": "c60iKQWLyR6V",
        "outputId": "5176ea01-c884-45b2-ab8c-f6c590e29363",
        "colab": {
          "base_uri": "https://localhost:8080/"
        }
      },
      "source": [
        "## Prints out a summary of the model so we can check for its layers, shapes, batch sizes, etc.\n",
        "model.summary()\n",
        "\n",
        "## Check output dimemsionality\n",
        "x, y = batch(vsongs, seqlen=50, bsize=32)\n",
        "pred = model(x)\n",
        "print(\"Input shape: \", x.shape)\n",
        "print(\"Prediction shape: \", pred.shape)\n",
        "\n",
        "## Check the prediction of the untrained RNN model using categorical distribution\n",
        "random_indices = tf.random.categorical(pred[0], num_samples=1)\n",
        "random_indices = tf.squeeze(random_indices, axis=-1).numpy()\n",
        "random_indices\n",
        "\n",
        "## decode the prediction from the unntrained RNN model\n",
        "## We should expect a prediction that does not make much sense as it is untrained\n",
        "index2char = np.array(uniq_chars)\n",
        "print(\"Input: \\n\", repr(\"\".join(index2char[x[0]])))\n",
        "print(\"Predicted next char: \\n\", repr(\"\".join(index2char[random_indices])))"
      ],
      "execution_count": 13,
      "outputs": [
        {
          "output_type": "stream",
          "text": [
            "Model: \"sequential\"\n",
            "_________________________________________________________________\n",
            "Layer (type)                 Output Shape              Param #   \n",
            "=================================================================\n",
            "embedding (Embedding)        (32, None, 256)           28672     \n",
            "_________________________________________________________________\n",
            "lstm (LSTM)                  (32, None, 1024)          5246976   \n",
            "_________________________________________________________________\n",
            "dense (Dense)                (32, None, 112)           114800    \n",
            "=================================================================\n",
            "Total params: 5,390,448\n",
            "Trainable params: 5,390,448\n",
            "Non-trainable params: 0\n",
            "_________________________________________________________________\n",
            "Input shape:  (32, 50)\n",
            "Prediction shape:  (32, 50, 112)\n",
            "Input: \n",
            " '\"Dm\"cdc cAF | \"Gm\"GAG GAc |\\\\\\n[1 \"Bb\"d3 \"C\"f3 :|[2 '\n",
            "Predicted next char: \n",
            " 'pk\\né^KAç5ê(FEzS5#: JY;É5h}&\\x1a&’RêC“7xj{[ZêzED_çWv~<'\n"
          ],
          "name": "stdout"
        }
      ]
    },
    {
      "cell_type": "markdown",
      "metadata": {
        "id": "v9HyiGPfK9I-"
      },
      "source": [
        "### Training the RNN model"
      ]
    },
    {
      "cell_type": "code",
      "metadata": {
        "id": "4yhZCw0rLAtH",
        "outputId": "e3764f5c-2e26-4979-e2df-051c1c0ec4a9",
        "colab": {
          "base_uri": "https://localhost:8080/"
        }
      },
      "source": [
        "## Train with sparse_categorical_corssentropy loss which uses integer targets for categorical classificiation tasks\n",
        "## logits: predictions\n",
        "\n",
        "def get_loss(labels, logits):\n",
        "  return keras.losses.sparse_categorical_crossentropy(labels, logits, from_logits=True)\n",
        "\n",
        "sample_loss = get_loss(y, pred) # from the sample prediction in the above section\n",
        "print(\"Scalar loss: \", sample_loss.numpy().mean())\n"
      ],
      "execution_count": 14,
      "outputs": [
        {
          "output_type": "stream",
          "text": [
            "Scalar loss:  4.71924\n"
          ],
          "name": "stdout"
        }
      ]
    },
    {
      "cell_type": "markdown",
      "metadata": {
        "id": "2y8SXzO4MERy"
      },
      "source": [
        "### Hyperparameters"
      ]
    },
    {
      "cell_type": "code",
      "metadata": {
        "id": "KsnRRQTZMKJF"
      },
      "source": [
        "### Define hyperarameters\n",
        "# Model params\n",
        "rnn_units = 1024 # suggeted range: 1 - 2048\n",
        "uniq_chars_len = len(uniq_chars)\n",
        "embedding_dim = 256\n",
        "\n",
        "# Optimization params\n",
        "training_cycles = 1500 # increase to make longer trainings\n",
        "batch_size = 4 # suggested range: 1 - 64\n",
        "seq_len = 50 # suggested range: 50 - 500\n",
        "learning_rate = 1e-4 # suggested range: 1e-5 - 1e-1\n",
        "\n",
        "# Checkpoint location\n",
        "ckpt_dir = './training_checkpoints'\n",
        "ckpt_prefix = os.path.join(ckpt_dir, \"ckpt\")"
      ],
      "execution_count": 15,
      "outputs": []
    },
    {
      "cell_type": "markdown",
      "metadata": {
        "id": "0YQ8CwNPN-NV"
      },
      "source": [
        "### Train the RNN model"
      ]
    },
    {
      "cell_type": "code",
      "metadata": {
        "id": "FuQnoULyOAVw",
        "outputId": "f009bed4-f557-4ff8-e836-6de79d47817f",
        "colab": {
          "base_uri": "https://localhost:8080/"
        }
      },
      "source": [
        "from tqdm import tqdm # progress bar\n",
        "\n",
        "rnn_model = build_RNN_model(uniq_chars_len, embedding_dim, rnn_units, batch_size)\n",
        "optimizer = keras.optimizers.Adam(learning_rate)\n",
        "\n",
        "@tf.function\n",
        "def step(x, y):\n",
        "  with tf.GradientTape() as tape:\n",
        "    y_hat = rnn_model(x)\n",
        "    loss = get_loss(y, y_hat)\n",
        "    gradients = tape.gradient(loss, rnn_model.trainable_variables)\n",
        "    optimizer.apply_gradients(zip(gradients, rnn_model.trainable_variables))\n",
        "    return loss\n",
        "\n",
        "# clear if there is progress bar instance\n",
        "if hasattr(tqdm, '_instances') : tqdm._instances.clear()\n",
        "\n",
        "## Start traning\n",
        "history = []\n",
        "\n",
        "for i in tqdm(range(training_cycles)):\n",
        "  x_batch, y_batch = batch(vsongs, seq_len, batch_size)\n",
        "  loss = step(x_batch, y_batch)\n",
        "  history.append(loss.numpy().mean())\n",
        "  # Update model with updated weights\n",
        "  if i%100 == 0:\n",
        "    rnn_model.save_weights(ckpt_prefix)\n",
        "\n",
        "# save model\n",
        "rnn_model.save_weights(ckpt_prefix)\n"
      ],
      "execution_count": 20,
      "outputs": [
        {
          "output_type": "stream",
          "text": [
            "100%|██████████| 1500/1500 [00:22<00:00, 67.54it/s]\n"
          ],
          "name": "stderr"
        }
      ]
    }
  ]
}