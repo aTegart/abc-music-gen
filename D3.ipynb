{
  "nbformat": 4,
  "nbformat_minor": 0,
  "metadata": {
    "colab": {
      "name": "D3.ipynb",
      "provenance": [],
      "collapsed_sections": [],
      "include_colab_link": true
    },
    "kernelspec": {
      "name": "python3",
      "display_name": "Python 3"
    },
    "accelerator": "GPU"
  },
  "cells": [
    {
      "cell_type": "markdown",
      "metadata": {
        "id": "view-in-github",
        "colab_type": "text"
      },
      "source": [
        "<a href=\"https://colab.research.google.com/github/aTegart/abc-music-gen/blob/main/D3.ipynb\" target=\"_parent\"><img src=\"https://colab.research.google.com/assets/colab-badge.svg\" alt=\"Open In Colab\"/></a>"
      ]
    },
    {
      "cell_type": "markdown",
      "metadata": {
        "id": "2F9xLu1WJLmw"
      },
      "source": [
        "#Getting set up:\n",
        "\n",
        "You will be connecting to your personal google drive, so make sure you have '/content/drive/My Drive/CS 486 Music Generation/' present (without the ending space, so Celine you should edit your folder name).\n",
        "\n",
        "Remember you need to authenticate every time you remount, and copy the auth code from the link.\n",
        "\n",
        "Currently this code only reads from the montreal folder because google decided to be \"helpful\" and converted the folders of files from .txt to the google doc format at some point. I've tried changing my settings to prevent file type conversion and reuploaded the txt files I have on my computer, but no luck. Celine, since you found a file type converter solution before, maybe you have some ideas for how to make them stay txt files?\n",
        "\n"
      ]
    },
    {
      "cell_type": "code",
      "metadata": {
        "id": "--rVuQodn4Mj",
        "outputId": "8e811bf0-0b7b-4702-b687-d9ef115e1921",
        "colab": {
          "base_uri": "https://localhost:8080/"
        }
      },
      "source": [
        "from google.colab import drive\n",
        "#drive.mount('/content/drive')\n",
        "drive.mount(\"/content/drive\", force_remount=True)"
      ],
      "execution_count": 2,
      "outputs": [
        {
          "output_type": "stream",
          "text": [
            "Mounted at /content/drive\n"
          ],
          "name": "stdout"
        }
      ]
    },
    {
      "cell_type": "markdown",
      "metadata": {
        "id": "xGKN1J5mEANa"
      },
      "source": [
        "Check position\n"
      ]
    },
    {
      "cell_type": "code",
      "metadata": {
        "id": "rI9EDxUcQcM4",
        "outputId": "575a8dd1-c2dc-4cd1-a2f1-2f793a3f7ed2",
        "colab": {
          "base_uri": "https://localhost:8080/"
        }
      },
      "source": [
        "!pwd\n",
        "!cd './drive/My Drive/'\n",
        "!pwd"
      ],
      "execution_count": 25,
      "outputs": [
        {
          "output_type": "stream",
          "text": [
            "/content\n",
            "/content\n"
          ],
          "name": "stdout"
        }
      ]
    },
    {
      "cell_type": "markdown",
      "metadata": {
        "id": "fP2eOWc-LlhK"
      },
      "source": [
        "## Preprocess the songs"
      ]
    },
    {
      "cell_type": "code",
      "metadata": {
        "id": "XuQrfZvQdbOy",
        "outputId": "ab72dab0-253d-432e-aca6-ac903e4447b4",
        "colab": {
          "base_uri": "https://localhost:8080/"
        }
      },
      "source": [
        "from os import listdir\n",
        "from os.path import isfile, join\n",
        "import os\n",
        "\n",
        "#list songs\n",
        "mypath = '/content/drive/My Drive/CS 486 Music Generation/' #this was previously \"myPath\" when it needed to be \"mypath\" 🤯\n",
        "#/content/drive/My Drive/CS 486 Music Generation \n",
        "#/content/drive/My Drive/CS 486 Music Generation\n",
        "folders = [f for f in listdir(mypath) if not isfile(join(mypath, f))]\n",
        "print(folders)\n",
        "allSongs = []\n",
        "for folder in folders:\n",
        "  if folder == \"montreal\": #must fix file format for other folders :(\n",
        "    for song in listdir(mypath + '/' + folder):\n",
        "      f = open(os.path.join(mypath,folder,song), \"r\")\n",
        "      text = f.read()\n",
        "      allSongs.append(text)\n",
        "print(len(allSongs))\n"
      ],
      "execution_count": 26,
      "outputs": [
        {
          "output_type": "stream",
          "text": [
            "['canad', 'montreal', 'tune arch canada']\n",
            "219\n"
          ],
          "name": "stdout"
        }
      ]
    },
    {
      "cell_type": "code",
      "metadata": {
        "id": "2FV5lwI_kfbt",
        "outputId": "a5653f9f-7fed-47b9-e75a-c7b010429e08",
        "colab": {
          "base_uri": "https://localhost:8080/"
        }
      },
      "source": [
        "print(allSongs[200])"
      ],
      "execution_count": 28,
      "outputs": [
        {
          "output_type": "stream",
          "text": [
            "X:139\n",
            "T:Valse Saint Jean\n",
            "C:Patrick Bouffard\n",
            "M:3/4\n",
            "K:D\n",
            "A3 G F2 |A2 G2 F2 |GA B4 |B2 GA GF |G3 F E2 |G2 F2 E2 |FG A4 |A2 AB A^G |\n",
            "A3 G F2 |A2 G2 F2 |GA B4 |c2 d2 B2 |A3 G F2 |A2 G2 E2 |1D6 |D6 :|2 D6 |D2 AB A^G |:\n",
            "A2 AB A^G |A2 AB A^G |A^G AB AG |G2 GA GF |G2 GA GF |G2 GA GF |\n",
            "GF GA Bc |B2 AB A^G |A2 AB A^G |A2 AB A^G |A^G AB AG |\n",
            "G2 GA GF |G2 GA GF |G2 GA GF |GF GA Bc |1d2 AB A^G :|2d6 |]\n"
          ],
          "name": "stdout"
        }
      ]
    },
    {
      "cell_type": "code",
      "metadata": {
        "id": "6kLfdwD7uA53",
        "outputId": "752827df-c90b-443b-c690-682b840b0b25",
        "colab": {
          "base_uri": "https://localhost:8080/"
        }
      },
      "source": [
        "#Combine songs into one long string\n",
        "spacing = \"\\n\\n\"\n",
        "combined_songs = spacing.join(allSongs)\n",
        "\n",
        "#Find vocabulary for vectorization (unique characters in string)\n",
        "uniq_chars = sorted(set(combined_songs))\n",
        "print(len(uniq_chars))\n",
        "\n",
        "char_num_map = {c:i for i, c in enumerate(uniq_chars)}\n",
        "num_char_map = {i:c for i, c in enumerate(uniq_chars)}\n",
        "\n",
        "#proof that the mapping holds both ways\n",
        "print('{')\n",
        "for char,_ in zip(char_num_map, range(20)):\n",
        "    print('  {:4s}: {:3d},'.format(repr(char), char_num_map[char]))\n",
        "print('  ...\\n}')\n",
        "\n",
        "print('{')\n",
        "for char,_ in zip(num_char_map, range(20)):\n",
        "    print('  {:4s}: {:3s},'.format(repr(char), num_char_map[char]))\n",
        "print('  ...\\n}')"
      ],
      "execution_count": 29,
      "outputs": [
        {
          "output_type": "stream",
          "text": [
            "96\n",
            "{\n",
            "  '\\n':   0,\n",
            "  ' ' :   1,\n",
            "  '\"' :   2,\n",
            "  '&' :   3,\n",
            "  \"'\" :   4,\n",
            "  '(' :   5,\n",
            "  ')' :   6,\n",
            "  '+' :   7,\n",
            "  ',' :   8,\n",
            "  '-' :   9,\n",
            "  '.' :  10,\n",
            "  '/' :  11,\n",
            "  '0' :  12,\n",
            "  '1' :  13,\n",
            "  '2' :  14,\n",
            "  '3' :  15,\n",
            "  '4' :  16,\n",
            "  '5' :  17,\n",
            "  '6' :  18,\n",
            "  '7' :  19,\n",
            "  ...\n",
            "}\n",
            "{\n",
            "  0   : \n",
            "  ,\n",
            "  1   :    ,\n",
            "  2   : \"  ,\n",
            "  3   : &  ,\n",
            "  4   : '  ,\n",
            "  5   : (  ,\n",
            "  6   : )  ,\n",
            "  7   : +  ,\n",
            "  8   : ,  ,\n",
            "  9   : -  ,\n",
            "  10  : .  ,\n",
            "  11  : /  ,\n",
            "  12  : 0  ,\n",
            "  13  : 1  ,\n",
            "  14  : 2  ,\n",
            "  15  : 3  ,\n",
            "  16  : 4  ,\n",
            "  17  : 5  ,\n",
            "  18  : 6  ,\n",
            "  19  : 7  ,\n",
            "  ...\n",
            "}\n"
          ],
          "name": "stdout"
        }
      ]
    },
    {
      "cell_type": "code",
      "metadata": {
        "id": "cTXB38Lg3qIA",
        "outputId": "e0943c10-197b-41a5-bb20-f5c63c1b5447",
        "colab": {
          "base_uri": "https://localhost:8080/"
        }
      },
      "source": [
        "import numpy as np\n",
        "#Vectorize combined_songs\n",
        "# array of a num for each char in the combined_songs string\n",
        "vsongs = np.array([char_num_map[c] for c in combined_songs])\n",
        "\n",
        "print ('{} ---- characters mapped to int ----> {}'.format(repr(combined_songs[:10]), vsongs[:10]))\n",
        "# check that vectorized_songs is a numpy array\n",
        "assert isinstance(vsongs, np.ndarray), \"returned result should be a numpy array\""
      ],
      "execution_count": 31,
      "outputs": [
        {
          "output_type": "stream",
          "text": [
            "'X:87\\nT:Le ' ---- characters mapped to int ----> [50 22 20 19  0 46 22 38 62  1]\n"
          ],
          "name": "stdout"
        }
      ]
    },
    {
      "cell_type": "code",
      "metadata": {
        "id": "szN1ypEiAWMr",
        "outputId": "03c4a672-25cb-40a1-f42e-7469568d10a7",
        "colab": {
          "base_uri": "https://localhost:8080/"
        }
      },
      "source": [
        "def batch(vsongs, seqlen, bsize):\n",
        "  highest_start_index = vsongs.shape[0] - 1 - seqlen\n",
        "  start_indices = np.random.choice(highest_start_index, bsize)\n",
        "\n",
        "  input = [vsongs[i : i+seqlen] for i in start_indices]\n",
        "  output = [vsongs[i+1 : i+1+seqlen] for i in start_indices]\n",
        "\n",
        "  input = np.reshape(input, [bsize, seqlen])\n",
        "  output = np.reshape(output, [bsize, seqlen])\n",
        "\n",
        "  return input, output\n",
        "\n",
        "testin, testout = batch(vsongs, 5, 2)\n",
        "#observe how testout is shifted one num forward from testin\n",
        "print(testin)\n",
        "print(testout)"
      ],
      "execution_count": 36,
      "outputs": [
        {
          "output_type": "stream",
          "text": [
            "[[28 14 28 28  1]\n",
            " [28  1 27 14 33]]\n",
            "[[14 28 28  1 28]\n",
            " [ 1 27 14 33 14]]\n"
          ],
          "name": "stdout"
        }
      ]
    },
    {
      "cell_type": "code",
      "metadata": {
        "id": "lYN3-Ty6GT2U",
        "outputId": "55b0dd9d-01a2-437a-c7ea-f8e4578ed76d",
        "colab": {
          "base_uri": "https://localhost:8080/"
        }
      },
      "source": [
        "#more testing, remove later\n",
        "\n",
        "x_batch, y_batch = batch(vsongs, seqlen=5, bsize=1)\n",
        "\n",
        "for i, (input_idx, target_idx) in enumerate(zip(np.squeeze(x_batch), np.squeeze(y_batch))):\n",
        "    print(\"Step {:3d}\".format(i))\n",
        "    print(\"  input: {} ({:s})\".format(input_idx, repr(num_char_map[input_idx])))\n",
        "    print(\"  expected output: {} ({:s})\".format(target_idx, repr(num_char_map[target_idx])))"
      ],
      "execution_count": 39,
      "outputs": [
        {
          "output_type": "stream",
          "text": [
            "Step   0\n",
            "  input: 69 ('l')\n",
            "  expected output: 10 ('.')\n",
            "Step   1\n",
            "  input: 10 ('.')\n",
            "  expected output: 60 ('c')\n",
            "Step   2\n",
            "  input: 60 ('c')\n",
            "  expected output: 58 ('a')\n",
            "Step   3\n",
            "  input: 58 ('a')\n",
            "  expected output: 0 ('\\n')\n",
            "Step   4\n",
            "  input: 0 ('\\n')\n",
            "  expected output: 39 ('M')\n"
          ],
          "name": "stdout"
        }
      ]
    },
    {
      "cell_type": "markdown",
      "metadata": {
        "id": "ii4VaUOwL-zu"
      },
      "source": [
        "## Setup Tensorflow and our ML env"
      ]
    },
    {
      "cell_type": "code",
      "metadata": {
        "id": "grPcgZeLhruq"
      },
      "source": [
        "%tensorflow_version 2.x\n",
        "import tensorflow as tf \n",
        "\n",
        "# Check that we are using a GPU, if not switch runtimes\n",
        "#   using Runtime > Change Runtime Type > GPU\n",
        "assert len(tf.config.list_physical_devices('GPU')) > 0"
      ],
      "execution_count": 27,
      "outputs": []
    }
  ]
}