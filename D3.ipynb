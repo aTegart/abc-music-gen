{
  "nbformat": 4,
  "nbformat_minor": 0,
  "metadata": {
    "colab": {
      "name": "D3.ipynb",
      "provenance": [],
      "collapsed_sections": [],
      "toc_visible": true,
      "include_colab_link": true
    },
    "kernelspec": {
      "name": "python3",
      "display_name": "Python 3"
    },
    "accelerator": "GPU"
  },
  "cells": [
    {
      "cell_type": "markdown",
      "metadata": {
        "id": "view-in-github",
        "colab_type": "text"
      },
      "source": [
        "<a href=\"https://colab.research.google.com/github/aTegart/abc-music-gen/blob/main/D3.ipynb\" target=\"_parent\"><img src=\"https://colab.research.google.com/assets/colab-badge.svg\" alt=\"Open In Colab\"/></a>"
      ]
    },
    {
      "cell_type": "markdown",
      "metadata": {
        "id": "2F9xLu1WJLmw"
      },
      "source": [
        "##Getting set up:\n",
        "\n",
        "You will be connecting to your personal google drive, so make sure you have '/content/drive/My Drive/CS 486 Music Generation/' present (without the ending space, so Celine I changed your folder name). This code now reads from all song folders. Please make sure you are on the latest version of the songs, because on Nov 11 changes were made to filetypes and to remove accented characters. When uploading files to your personal google drive, make sure to have \"convert uploads\" unchecked in your settings.\n",
        "\n",
        "Remember you need to authenticate when you remount, and copy the auth code from the link.\n",
        "\n",
        "\n",
        "\n"
      ]
    },
    {
      "cell_type": "code",
      "metadata": {
        "id": "--rVuQodn4Mj",
        "outputId": "d26a20e1-8779-4cf5-8343-0362dd5954fb",
        "colab": {
          "base_uri": "https://localhost:8080/"
        }
      },
      "source": [
        "from google.colab import drive\n",
        "drive.mount('/content/drive')\n",
        "# drive.mount(\"/content/drive\", force_remount=True)"
      ],
      "execution_count": 1,
      "outputs": [
        {
          "output_type": "stream",
          "text": [
            "Mounted at /content/drive\n"
          ],
          "name": "stdout"
        }
      ]
    },
    {
      "cell_type": "markdown",
      "metadata": {
        "id": "xGKN1J5mEANa"
      },
      "source": [
        "Check position\n"
      ]
    },
    {
      "cell_type": "code",
      "metadata": {
        "id": "rI9EDxUcQcM4",
        "outputId": "48c7412e-fe08-4cb4-c8ae-3d4770989035",
        "colab": {
          "base_uri": "https://localhost:8080/"
        }
      },
      "source": [
        "!pwd\n",
        "!cd './drive/My Drive/'\n",
        "!pwd"
      ],
      "execution_count": 2,
      "outputs": [
        {
          "output_type": "stream",
          "text": [
            "/content\n",
            "/content\n"
          ],
          "name": "stdout"
        }
      ]
    },
    {
      "cell_type": "markdown",
      "metadata": {
        "id": "fP2eOWc-LlhK"
      },
      "source": [
        "## Preprocess the songs"
      ]
    },
    {
      "cell_type": "code",
      "metadata": {
        "id": "XuQrfZvQdbOy",
        "outputId": "a667c91d-3c6a-4d91-b458-56434ffae4c1",
        "colab": {
          "base_uri": "https://localhost:8080/"
        }
      },
      "source": [
        "from os import listdir\n",
        "from os.path import isfile, join\n",
        "import os\n",
        "\n",
        "#list songs\n",
        "mypath = '/content/drive/My Drive/CS 486 Music Generation/' #this was previously \"myPath\" when it needed to be \"mypath\" 🤯\n",
        "#/content/drive/My Drive/CS 486 Music Generation \n",
        "#/content/drive/My Drive/CS 486 Music Generation\n",
        "folders = [f for f in listdir(mypath) if not isfile(join(mypath, f))]\n",
        "print(folders)\n",
        "allSongs = []\n",
        "for folder in folders:\n",
        "  #if folder == \"montreal\":\n",
        "  for song in listdir(mypath + '/' + folder):\n",
        "    print(folder+\" \"+song)\n",
        "    f = open(os.path.join(mypath,folder,song), \"r\")\n",
        "    text = f.read()\n",
        "    allSongs.append(text)\n",
        "print(len(allSongs))\n"
      ],
      "execution_count": 3,
      "outputs": [
        {
          "output_type": "stream",
          "text": [
            "['montreal', 'canad', 'tune arch canada']\n",
            "montreal Aimee Gagnon - K G.txt\n",
            "montreal August - K F.txt\n",
            "montreal Berceuse pour Hannah - K D.txt\n",
            "montreal Bonjour, comment ca va? - K G.txt\n",
            "montreal Brandy - K G.txt\n",
            "montreal Breakfast at the Methes - K Ddor.txt\n",
            "montreal Danse de campagne - K D.txt\n",
            "montreal Gigue Andre Alain - K D.txt\n",
            "montreal Gigue back a back - K D.txt\n",
            "montreal Gigue des capuchons - K D.txt\n",
            "montreal Gigue du Demon - K D.txt\n",
            "montreal Gigue du Diamant Bleu - K D.txt\n",
            "montreal Hommage a Dorothee - K D.txt\n",
            "montreal La belle Catherine - K D.txt\n",
            "montreal La chaise noire - K Gmin.txt\n",
            "montreal La Complainte du Folkloriste - K D.txt\n",
            "montreal Le bonhomme et la bonne femme - K D .txt\n",
            "montreal Le brandy - K D.txt\n",
            "montreal Le Chat Noir - K Gmin.txt\n",
            "montreal Valse du coq - K D.txt\n",
            "montreal Reel des cinq jumelles - K D.txt\n",
            "montreal Reel du Bonhomme - K D.txt\n",
            "montreal Reel d'Alison - K D.txt\n",
            "montreal Reel Chicoutimi - K A.txt\n",
            "montreal Reel Beaulieu - K Amix.txt\n",
            "montreal Reel a Cedulie - K F.txt\n",
            "montreal Reel de Chateauguay - K G.txt\n",
            "montreal Valse Bernadette - K D.txt\n",
            "montreal Reel de Bellechasse - K D.txt\n",
            "montreal Valse des bebes - K D.txt\n",
            "montreal Reel du carrefour - K C.txt\n",
            "montreal Reel de Caribou - K D.txt\n",
            "montreal Reel Beatrice - K Amin.txt\n",
            "montreal Reel des Chantiers - K D.txt\n",
            "montreal Reel de Beris - K A.txt\n",
            "montreal Reel Africain - K D.txt\n",
            "montreal Reel Anne Marie - K A.txt\n",
            "montreal Reel du combat - K Ddor.txt\n",
            "montreal Reel des citrouilles - K Gmin.txt\n",
            "montreal Reel Arthur - K A.txt\n",
            "montreal Valse des Bois - K Emin.txt\n",
            "montreal Reel de Beloeil - K D.txt\n",
            "montreal Reel Antoinette - K D.txt\n",
            "montreal Valse d'Hiver - K D.txt\n",
            "montreal Reel Andre Alain - K D.txt\n",
            "montreal Marche au camp - K G.txt\n",
            "montreal Reel des accordeonistes - K Amix.txt\n",
            "montreal Reel de Drummondville - K G.txt\n",
            "montreal Reel des Eboulements - K A.txt\n",
            "montreal Hommage a Edmond Parizeau - K A.txt\n",
            "montreal Marche des eleves - K D.txt\n",
            "montreal Reel des Esquimaux - K G.txt\n",
            "montreal Reel Eugene - K Bmin.txt\n",
            "montreal Reel du Faubourg - K D.txt\n",
            "montreal La Fee des dents - K G.txt\n",
            "montreal Fleur de mandragore - K A.txt\n",
            "montreal Forcalquier - K D.txt\n",
            "montreal Le Gadeliderot - K D.txt\n",
            "montreal Le Galant - K C.txt\n",
            "montreal La Galop de Malbaie - D.txt\n",
            "montreal La galope de Baie St-Paul - K D.txt\n",
            "montreal Reel du Gateaux aux bannanes - K C.txt\n",
            "montreal Hommage a Gaetan Roy - K D.txt\n",
            "montreal La gigue du sans travail - K D.txt\n",
            "montreal Hommage a Gilles Laprise - K D.txt\n",
            "montreal Reel du goglu - K D.txt\n",
            "montreal Golden Colorado - K D.txt\n",
            "montreal La Grande gigue simple - K D.txt\n",
            "montreal La grande traversee - K D.txt\n",
            "montreal La Guenille - K D.txt\n",
            "montreal Hommage a Guy Thomas - K D.txt\n",
            "montreal Hema - K D.txt\n",
            "montreal Histoire de mon coq - K G.txt\n",
            "montreal Hounds Tune - K D.txt\n",
            "montreal Reel Iroquois - K D.txt\n",
            "montreal Issoudun - K A.txt\n",
            "montreal Jack McCann - K Ador.txt\n",
            "montreal Hommage a Jimmy de Genova - K Edor.txt\n",
            "montreal Hommage a Jos Bouchard - K D.txt\n",
            "montreal reel de Jos Cormier - K D.txt\n",
            "montreal Le 24 juin - K G.txt\n",
            "montreal Reel a Jules Verret - K D.txt\n",
            "montreal Galope de Jules Verret - K D.txt\n",
            "montreal Kenneth Murphy - K G.txt\n",
            "montreal Korolenko's Backyeard - K G.txt\n",
            "montreal Galope du lac St-Charles - K D.txt\n",
            "montreal l'Air mignonne - K A.txt\n",
            "montreal L'alambis - K D.txt\n",
            "montreal Valse de l'amitie - K D.txt\n",
            "montreal Reel de l'amitie - K D.txt\n",
            "montreal Gigue de l'egouttage - K G.txt\n",
            "montreal Reel du lendemain - K Gmin.txt\n",
            "montreal Gigue du lendemain - K D.txt\n",
            "montreal Levis Beaulieu - K A.txt\n",
            "montreal Reel des lilas - K G.txt\n",
            "montreal Little Jimmy Stephen - K Dmin.txt\n",
            "montreal reel de l'Obstineux - K D.txt\n",
            "montreal Louis Cyr - K G.txt\n",
            "montreal Reel de Louis Gagnon - K G.txt\n",
            "montreal Reel de L'Outaouais - K D.txt\n",
            "montreal The Lucky Trapper - K G.txt\n",
            "montreal Gigue de M. Blanchette - K D.txt\n",
            "montreal Gigue de mademe Saint Germain - K D.txt\n",
            "montreal Maison de Glace - K D.txt\n",
            "montreal Galope de la Malbaie - K D.txt\n",
            "montreal La marche de l'ouverture - K D.txt\n",
            "montreal La Marche Printaniere - K D.txt\n",
            "montreal Margaretsville Reel - K Gmin.txt\n",
            "montreal Reel de Mattawa - K Edor.txt\n",
            "montreal Le Mecanicien - K D.txt\n",
            "montreal Reel Mimeault - K D.txt\n",
            "montreal Hommage a monsieur Lecourt - K G.txt\n",
            "montreal Reel de Mont Marie - K D.txt\n",
            "montreal Quadrilles des Montagnards Laurentiens - K D.txt\n",
            "montreal Reel de Montebello - K Amin.txt\n",
            "montreal Reel de Montmagny - K D.txt\n",
            "montreal Hommage aux musiciens traditionnels - K D.txt\n",
            "montreal Reel du nord - K Bmin.txt\n",
            "montreal Nuit Sauvage - K Dmin.txt\n",
            "montreal reel des oignons - K D.txt\n",
            "montreal Old French - K D.txt\n",
            "montreal Le parcour - K D.txt\n",
            "montreal Gigue de paroissiens - K D.txt\n",
            "montreal Partie de Quadrilles - K D.txt\n",
            "montreal Reel du Patineur - K A.txt\n",
            "montreal Les patins de Pauline - K G.txt\n",
            "montreal Gigue des patriotes - K Emin.txt\n",
            "montreal Reel du pendu - K G.txt\n",
            "montreal Gigue du Pere Mathias - K D.txt\n",
            "montreal 6:8 de Petit Sarny - K Emin.txt\n",
            "montreal La petite galope de Jules Verret - K D.txt\n",
            "montreal Marche Philippe Bruneau.txt\n",
            "montreal Hommage a Phillippe Bruneau - K D.txt\n",
            "montreal Hommage a Pitou Boudreault - K D.txt\n",
            "montreal Plan 9 - K G.txt\n",
            "montreal Gigue du Plateau Mont-Royal - K D.txt\n",
            "montreal Reel A Polo - K D.txt\n",
            "montreal Le pommeau 1 - K A.txt\n",
            "montreal Reel de Port Joli - K D.txt\n",
            "montreal Le poteau blanc - K A.txt\n",
            "montreal Marche pour Anne-Marie - K Dmin.txt\n",
            "montreal Le printemps - K D.txt\n",
            "montreal le p'tit bal a l'huile - K D.txt\n",
            "montreal Reel des p'tits-minous - K G.txt\n",
            "montreal Le quadrille Beauharnois - K C.txt\n",
            "montreal Reel a quatre d'Antonio Gautier - K G.txt\n",
            "montreal Reel des quatre patates - K D.txt\n",
            "montreal Quatres fer en l'air - K D.txt\n",
            "montreal Marche du queteux Pomerleau - K G.txt\n",
            "montreal Reel au ralenti - K F.txt\n",
            "montreal le reel des menteries - K D.txt\n",
            "montreal Le Releveur - K D.txt\n",
            "montreal Galope du repertoire de Gaston Nolet - K D.txt\n",
            "montreal Reel du repertoire d'Isidore Soucy - K D.txt\n",
            "montreal repertoire Francine Desjardins - K D.txt\n",
            "montreal repertoire les freres Pigeon - K D.txt\n",
            "montreal le reve du queteux - K F.txt\n",
            "montreal Quadrille de Riviere du Loup - K D.txt\n",
            "montreal Reel robin - K A.txt\n",
            "montreal Ronfleuse Gobeil - K D.txt\n",
            "montreal Le ruisseau francais - K D.txt\n",
            "montreal Valse Saint Jean - K D.txt\n",
            "montreal Reel Saint Jean - K D.txt\n",
            "montreal Saint Ligori - K G.txt\n",
            "montreal Reel Saint Paul - K A.txt\n",
            "montreal Reel de Saint Simeon - K D.txt\n",
            "montreal le 125eme de Sainte Louise - K G.txt\n",
            "montreal le 125ieme de Sainte Louise - K G.txt\n",
            "montreal Reel Sainte Louise - K D.txt\n",
            "montreal Gigue de Salon - K A.txt\n",
            "montreal Reel de la Sauvagine - K A.txt\n",
            "montreal Reel du semeur - K D.txt\n",
            "montreal Set americain - K D.txt\n",
            "montreal Sheepskin and Beeswax - K Ador.txt\n",
            "montreal Reel de Sherbrooke - K G.txt\n",
            "montreal Reel de Siamois - K G.txt\n",
            "montreal Son of a Bear - K A.txt\n",
            "montreal Reel St Antoine - K A.txt\n",
            "montreal Reel de St Esprit - K D.txt\n",
            "montreal Reel St Marc - K Amin.txt\n",
            "montreal St-Etienne - D.txt\n",
            "montreal Reel St-Joseph - K D.txt\n",
            "montreal Hommage a Stephane Landry - K Bmin.txt\n",
            "montreal Gigue du sucre - K G.txt\n",
            "montreal Reel de Tadoussac - K G.txt\n",
            "montreal Reel de tante Cecile - K G.txt\n",
            "montreal Reel du temple - K D.txt\n",
            "montreal Gigue de Terrebonne - K D.txt\n",
            "montreal Marche de Thomas Pomerleau 1 - K D.txt\n",
            "montreal Ti-Jean Morin - K D.txt\n",
            "montreal Reel Ti-Me - K D.txt\n",
            "montreal le Tourment - K G.txt\n",
            "montreal Reel de traversier - K D.txt\n",
            "montreal Gigue a Trois - K G.txt\n",
            "montreal Reel du Tricentenaire -  K D.txt\n",
            "montreal Yves Lambert Irish Melody - K D.txt\n",
            "montreal Reel de la tuque bleue - K F.txt\n",
            "montreal Turlutte acadienne - K G.txt\n",
            "montreal Un air trompeur - K D.txt\n",
            "montreal Unknown - K D.txt\n",
            "montreal Reel des vacanciers - K Dmin.txt\n",
            "montreal Reel de Valleyfield - K D.txt\n",
            "montreal La valse des cerfs-volants - K Bmin.txt\n",
            "montreal La valse des jouets - K D.txt\n",
            "montreal La valse des voyages - K G.txt\n",
            "montreal La Valse Laurencienne - K Bmin.txt\n",
            "montreal Valse-clog Lacroix - K D.txt\n",
            "montreal Vendredi Trad - K A.txt\n",
            "montreal Reel du Verre-Bouteille.txt\n",
            "montreal Reel des vieux garcons - K D.txt\n",
            "montreal reel de vieux moulin - K D.txt\n",
            "montreal Violon guerisseur - K D.txt\n",
            "montreal Le Viree dans Villeray - K A.txt\n",
            "montreal Le voyage d'Eric St-Pierre - K D.txt\n",
            "montreal Valse Westphalia - K D.txt\n",
            "montreal The Woodchopper's Breakdown - K D.txt\n",
            "montreal The Woolen Cap - K Edor.txt\n",
            "montreal Hommage a Yvan Brault - K A.txt\n",
            "canad Lesley's welcome return from Canada - K G.txt\n",
            "canad Blind Man's Reel - K D.txt\n",
            "canad la Grandeuse - K D.txt\n",
            "canad Green Fields Of Canada - K Dmix.txt\n",
            "canad Golden Wedding Reel - K G.txt\n",
            "canad Buddy's Order of Canada - K E.txt\n",
            "canad THE 48th HIGHLANDERS OF CANADA - K HP.txt\n",
            "canad Tea Gardens Jig - K G.txt\n",
            "canad the Mist-Covered Mountain - K ADor.txt\n",
            "canad Golden Eagle Hornpipe - K G.txt\n",
            "canad In Memory of Herbie MacLeod - K A.txt\n",
            "canad Fraser's Jig - K Gdor.txt\n",
            "canad French Canadian Four step - K G.txt\n",
            "canad French Canadian Reel - K D.txt\n",
            "canad French Canadian Waltz - K D.txt\n",
            "canad Frenchie's Reel - K Bb.txt\n",
            "canad Joey Beaton - K D.txt\n",
            "canad Jordan's Reel - K Bb.txt\n",
            "canad Whiskey Before Breakfast - K D.txt\n",
            "canad Old Faithful - K D.txt\n",
            "canad The Old Man and Old Woman - K G.txt\n",
            "canad MacArthur Road #1 - K D.txt\n",
            "canad Mac Morin's Jig - K Ddor.txt\n",
            "canad Madame Renaud - K G.txt\n",
            "canad Maple Leaf Jig - K G.txt\n",
            "canad Oh Canada by Skjald - K C.txt\n",
            "canad Liam's Bear - K A.txt\n",
            "canad the New Fiddle - K E.txt\n",
            "canad the New Kelvin Bridge 1891 - K A.txt\n",
            "canad la Belle Catherine - K C.txt\n",
            "canad Betty Lou's Reel - K D.txt\n",
            "canad Valse des iles de la madeleine - K A.txt\n",
            "canad La valse des jouets - K D.txt\n",
            "canad My Cape Breton Home - K G.txt\n",
            "canad My Friend Buddy - K F.txt\n",
            "canad O'Mahoney's - K DMaj.txt\n",
            "canad Ciaran Tourish's Reel - K D.txt\n",
            "canad la Bastrange - K D.txt\n",
            "canad Bay of Fundy - K D.txt\n",
            "canad Allens Reel - K A.txt\n",
            "canad Alouette - K G.txt\n",
            "canad Iggie and Squiggie - K D.txt\n",
            "canad 8x32S 3C - K D.txt\n",
            "canad Donegal Reel - K D.txt\n",
            "canad Don Messer's Breakdown - K C.txt\n",
            "canad Don Side - K G.txt\n",
            "canad Don Tremain's Reel - K D.txt\n",
            "canad Double Clog - K Bb.txt\n",
            "canad Dowd's Favorite - Gm.txt\n",
            "canad Wake Up to Cape Breton - K EMix.txt\n",
            "canad the Way to Judique - K A.txt\n",
            "canad Mussels in the Corner - K A.txt\n",
            "canad Big John McNeil - K A.txt\n",
            "canad Polka from Don Messer - K A.txt\n",
            "canad CanadayIO - K F.txt\n",
            "canad CANADEEIO - K G.txt\n",
            "canad Canadian Barn Dance - K C.txt\n",
            "canad the CANADIAN BOAT SONG - K G.txt\n",
            "canad CANADIAN BREAKDOWN - K D.txt\n",
            "canad Canadian Club - K A.txt\n",
            "canad Canadian Four Step - K F.txt\n",
            "canad The Canadian Scottish CYMRU - K HP.txt\n",
            "canad Canadian Sunset - K F.txt\n",
            "canad The Canadian Waltz - K D.txt\n",
            "canad Cape Breton Dream - K Amaj.txt\n",
            "canad Capers Jig - K C.txt\n",
            "canad The Carfuffle Shuffle - K C.txt\n",
            "canad Caribou - K Edor.txt\n",
            "canad Carl Canada - K Bdor.txt\n",
            "canad Aunt Mary's Canadian Jig - K D.txt\n",
            "canad Paddy On The Turnpike - K G.txt\n",
            "canad Paddy's Trip to Scotland - K D.txt\n",
            "canad Pays de Haut - K D.txt\n",
            "canad Come To Me in Canada - K E.txt\n",
            "canad Cotillon d'Avila LeBlanc - K D.txt\n",
            "canad Ornamentation from Andy De Jarlis - K A.txt\n",
            "canad Danse de chez nous - K G.txt\n",
            "canad Woodridge Breakdown - K A.txt\n",
            "canad The Peerie Werrie - K G.txt\n",
            "canad Peter Feeney's Dream - K DMaj.txt\n",
            "canad Judy's Reel - K D.txt\n",
            "canad Bobby Brown's Canadian Breakdown - K G.txt\n",
            "canad Surf and Turf bridge tune - K D.txt\n",
            "canad Andy de Jarlis' Jig v2 - K E.txt\n",
            "canad Angus Campbell - K A.txt\n",
            "canad As written by Andy De Jarlis - K Em.txt\n",
            "canad Pigeon on the Gate - K Gm.txt\n",
            "canad NOBLE LADS OF CANADA - K G.txt\n",
            "canad a Branch Tune - K G.txt\n",
            "canad O Canada - K G.txt\n",
            "canad Un Canadien Errant - K D.txt\n",
            "canad The High Country - K D.txt\n",
            "canad The High Level - K Bb.txt\n",
            "canad the Feller from Fortune - K G.txt\n",
            "canad Mr Gordon of Hallhead - K G.txt\n",
            "canad Raemona's Waltz - K G.txt\n",
            "canad Archie Menzie's - K F.txt\n",
            "canad Mouth of the Tobique - K G.txt\n",
            "canad Jean's Reel - K G.txt\n",
            "canad Killavail Fancy - K G.txt\n",
            "canad The Red Coat - K G.txt\n",
            "canad Reel Canadien Francais - K D.txt\n",
            "canad Reel de Chateauguay - K g.txt\n",
            "canad Reel de la Tuque Bleue - K F.txt\n",
            "canad Reel de L'Enfant - K G.txt\n",
            "canad Reel des Jeunes Maries - K D.txt\n",
            "canad Reel du Canada - K G.txt\n",
            "canad Reel Du Goglu - K D.txt\n",
            "canad Reel du Printemps - K A.txt\n",
            "canad Reel Indien - K G.txt\n",
            "canad The Reel of the Canadian Scottish - K HP.txt\n",
            "canad Avila Leblanc - K D.txt\n",
            "canad Gigue Canadienne - K G.txt\n",
            "canad Gigue de Terrebonne - K D.txt\n",
            "canad Gillis' Favorite - K D.txt\n",
            "canad Iles de la Madeleine - K F.txt\n",
            "canad The Saint Lawrence Jig - K D.txt\n",
            "canad Lots of Fish in Bonavist' Harbour - K G.txt\n",
            "canad Louis Waltz - K D.txt\n",
            "canad Richibucto Reel - K G.txt\n",
            "canad McArthur's Reel - K D.txt\n",
            "canad Gaspe Reel - K D.txt\n",
            "canad Tom Trainor's Jig - K E.txt\n",
            "canad la Traversee - K D.txt\n",
            "canad Fiona's Return from Canada - K G.txt\n",
            "canad Reel Beatrice - K Am.txt\n",
            "canad Sam Cormier Reel - K E.txt\n",
            "canad Cotillion a Huit - K G.txt\n",
            "canad Valse a Jessie - K D.txt\n",
            "tune arch canada Iles de la Madeleine - K A.txt\n",
            "tune arch canada My Lily - K A.txt\n",
            "tune arch canada Valse-Clog Guilmette - K Bb.txt\n",
            "tune arch canada Ookpik Waltz - K G.txt\n",
            "tune arch canada The Black Velvet Waltz - K C.txt\n",
            "tune arch canada Hilo marche - K F.txt\n",
            "tune arch canada Duke of Gordons Birth Day - K G.txt\n",
            "tune arch canada John Morrison Assynt House - K A Dorian.txt\n",
            "tune arch canada Reel du courrier - K Bb.txt\n",
            "tune arch canada Patins de Pauline - K G.txt\n",
            "tune arch canada Journeymans Jig - K Dmaj.txt\n",
            "tune arch canada Reel de Beloeil - K D.txt\n",
            "tune arch canada 91st at Modder River - Bmin.txt\n",
            "tune arch canada Macton Reel - K D.txt\n",
            "tune arch canada Quadrille canadien - K G.txt\n",
            "tune arch canada Pappy Dailys Breakdown - K Bb.txt\n",
            "tune arch canada Celtic Cousins - K F.txt\n",
            "tune arch canada Alex and Maureens Two-Step - K G.txt\n",
            "tune arch canada Loup Garou - K A.txt\n",
            "tune arch canada Reel de la Pointe Bleue - K G.txt\n",
            "tune arch canada Reel du pˆcheur - K Bb.txt\n",
            "tune arch canada Set de Vaudreuil 4eme partie - K G.txt\n",
            "tune arch canada Johnny Cope - K Am.txt\n",
            "tune arch canada Fall of Paris - K D.txt\n",
            "tune arch canada Marche du 64eme bataillon - K D.txt\n",
            "tune arch canada Bog in Lochan - K Edor.txt\n",
            "tune arch canada Tarte aux pommes - K A.txt\n",
            "tune arch canada Ann MacQuarries Reel - K A.txt\n",
            "tune arch canada The Rakes of Mallow - K G.txt\n",
            "tune arch canada Lochleven Castle - K Amin.txt\n",
            "tune arch canada Lightning Hornpipe - K Bb.txt\n",
            "tune arch canada Pere Leon - K G.txt\n",
            "tune arch canada Reel des eskimos - K A.txt\n",
            "tune arch canada Bonapartes March - K Amin.txt\n",
            "tune arch canada Bony Part Crossing the Alps - K Amin.txt\n",
            "tune arch canada Andy Dejarlis Jig - K E.txt\n",
            "tune arch canada Rubber Dolly - K A.txt\n",
            "tune arch canada Father Angus MacDonnell - K G.txt\n",
            "tune arch canada Jack Halls Jig - K G.txt\n",
            "tune arch canada Dudley Street - K E.txt\n",
            "tune arch canada Joys of Wedlock - K G.txt\n",
            "tune arch canada Wedding Day - K D.txt\n",
            "tune arch canada Andre Alain - K D.txt\n",
            "tune arch canada Turkey in the Straw - K G.txt\n",
            "tune arch canada Andrews Waltz - K D.txt\n",
            "tune arch canada Westphalia Waltz - K G.txt\n",
            "tune arch canada Morags Wedding - K D.txt\n",
            "tune arch canada Donald Angus Beatons Strathspey - K A.txt\n",
            "tune arch canada Hey, Johnny Lad - K A.txt\n",
            "tune arch canada Garcon Volage - K G.txt\n",
            "tune arch canada Valleyfield - K D.txt\n",
            "tune arch canada Reel des poilus - K A.txt\n",
            "tune arch canada Reel du capitaine - K A.txt\n",
            "tune arch canada Reel du cowboy - K G.txt\n",
            "tune arch canada Pretty Betty Reel - K D.txt\n",
            "tune arch canada Sheepskin and Bees Wax - K Ador.txt\n",
            "tune arch canada River John Sunset Waltz - K D major.txt\n",
            "tune arch canada Quadrille de Rimouski 4eme partie - K G.txt\n",
            "tune arch canada Green growes the Rashes - K D.txt\n",
            "tune arch canada Quadrille des Laurentides 1ere partie - K G.txt\n",
            "tune arch canada Homeward Bound - K D.txt\n",
            "tune arch canada Reel de Gaspe - K G.txt\n",
            "tune arch canada Uncle Peters Tune - K G.txt\n",
            "tune arch canada Fiddle Head Reel - K G.txt\n",
            "tune arch canada Listen to the Mocking Bird - K G.txt\n",
            "tune arch canada Opera Reel - K D.txt\n",
            "tune arch canada Reel des oignons - D.txt\n",
            "tune arch canada Monkeys Wedding - K F.txt\n",
            "tune arch canada Willow Tree - K A.txt\n",
            "tune arch canada The Mocassin Shuffle - K C.txt\n",
            "tune arch canada Braes of Aughtertyre - K D.txt\n",
            "tune arch canada Reel de la Pistroli - K D.txt\n",
            "tune arch canada Elmers Tune - K Dmaj.txt\n",
            "tune arch canada Reeds - K C.txt\n",
            "tune arch canada Lord Moira - K F.txt\n",
            "tune arch canada Mrs Gordon of Knockespoch - K F.txt\n",
            "423\n"
          ],
          "name": "stdout"
        }
      ]
    },
    {
      "cell_type": "code",
      "metadata": {
        "id": "2FV5lwI_kfbt",
        "outputId": "78008f44-01d4-4112-cb41-72745594eeb0",
        "colab": {
          "base_uri": "https://localhost:8080/"
        }
      },
      "source": [
        "print(allSongs[100])"
      ],
      "execution_count": 4,
      "outputs": [
        {
          "output_type": "stream",
          "text": [
            "X:63\n",
            "T:The Lucky Trapper\n",
            "C:Andy Dejarlis\n",
            "S:Doug Creighton\n",
            "Z:robin.beech@mcgill.ca\n",
            "R:reel\n",
            "M:4/4\n",
            "L:1/8\n",
            "R:reel\n",
            "K:G\n",
            "D2 | G2BG DGBG | DGBG cGBG | A2AF DFAF | DFAc BGAF |\n",
            "G2BG DGBG | cGBG ABAG | FGAB cdef | gfga g2 ::\n",
            "d2 | g2ga gfed | eaab a2ag | f2d2 dedc | BGAF GABd |\n",
            "g2ga gfed | eaab a2ag | fgaf bfaf | gfga g2 :|\n"
          ],
          "name": "stdout"
        }
      ]
    },
    {
      "cell_type": "code",
      "metadata": {
        "id": "6kLfdwD7uA53",
        "outputId": "4a48bd17-30f9-468c-c372-e899a0c1ca5f",
        "colab": {
          "base_uri": "https://localhost:8080/"
        }
      },
      "source": [
        "#Combine songs into one long string\n",
        "spacing = \"\\n\\n\"\n",
        "combined_songs = spacing.join(allSongs)\n",
        "\n",
        "#Find vocabulary for vectorization (unique characters in string)\n",
        "uniq_chars = sorted(set(combined_songs))\n",
        "print(len(uniq_chars))\n",
        "\n",
        "char_num_map = {c:i for i, c in enumerate(uniq_chars)}\n",
        "num_char_map = {i:c for i, c in enumerate(uniq_chars)}\n",
        "\n",
        "#proof that the mapping holds both ways\n",
        "print('{')\n",
        "for char,_ in zip(char_num_map, range(20)):\n",
        "# for char,_ in zip(char_num_map, range(len(char_num_map))):\n",
        "    print('  {:4s}: {:3d},'.format(repr(char), char_num_map[char]))\n",
        "print('  ...\\n}')\n",
        "\n",
        "print('{')\n",
        "for char,_ in zip(num_char_map, range(20)):\n",
        "# for char,_ in zip(num_char_map, range(len(num_char_map))):\n",
        "    print('  {:4s}: {:3s},'.format(repr(char), num_char_map[char]))\n",
        "print('  ...\\n}')"
      ],
      "execution_count": 5,
      "outputs": [
        {
          "output_type": "stream",
          "text": [
            "112\n",
            "{\n",
            "  '\\t':   0,\n",
            "  '\\n':   1,\n",
            "  '\\x1a':   2,\n",
            "  ' ' :   3,\n",
            "  '!' :   4,\n",
            "  '\"' :   5,\n",
            "  '#' :   6,\n",
            "  '%' :   7,\n",
            "  '&' :   8,\n",
            "  \"'\" :   9,\n",
            "  '(' :  10,\n",
            "  ')' :  11,\n",
            "  '*' :  12,\n",
            "  '+' :  13,\n",
            "  ',' :  14,\n",
            "  '-' :  15,\n",
            "  '.' :  16,\n",
            "  '/' :  17,\n",
            "  '0' :  18,\n",
            "  '1' :  19,\n",
            "  ...\n",
            "}\n",
            "{\n",
            "  0   : \t  ,\n",
            "  1   : \n",
            "  ,\n",
            "  2   : \u001a  ,\n",
            "  3   :    ,\n",
            "  4   : !  ,\n",
            "  5   : \"  ,\n",
            "  6   : #  ,\n",
            "  7   : %  ,\n",
            "  8   : &  ,\n",
            "  9   : '  ,\n",
            "  10  : (  ,\n",
            "  11  : )  ,\n",
            "  12  : *  ,\n",
            "  13  : +  ,\n",
            "  14  : ,  ,\n",
            "  15  : -  ,\n",
            "  16  : .  ,\n",
            "  17  : /  ,\n",
            "  18  : 0  ,\n",
            "  19  : 1  ,\n",
            "  ...\n",
            "}\n"
          ],
          "name": "stdout"
        }
      ]
    },
    {
      "cell_type": "code",
      "metadata": {
        "id": "cTXB38Lg3qIA",
        "outputId": "10764502-15d9-4ba0-de49-df9ec3912b92",
        "colab": {
          "base_uri": "https://localhost:8080/"
        }
      },
      "source": [
        "import numpy as np\n",
        "# Vectorize combined_songs\n",
        "# array of a num for each char in the combined_songs string\n",
        "vsongs = np.array([char_num_map[c] for c in combined_songs])\n",
        "\n",
        "print ('{} ---- characters mapped to int ----> {}'.format(repr(combined_songs[:10]), vsongs[:10]))\n",
        "# check that vectorized_songs is a numpy array\n",
        "assert isinstance(vsongs, np.ndarray), \"returned result should be a numpy array\""
      ],
      "execution_count": 30,
      "outputs": [
        {
          "output_type": "stream",
          "text": [
            "'X:21\\nT:Aim' ---- characters mapped to int ----> [58 28 20 19  1 54 28 35 74 78]\n"
          ],
          "name": "stdout"
        }
      ]
    },
    {
      "cell_type": "code",
      "metadata": {
        "id": "szN1ypEiAWMr",
        "outputId": "6a5696e1-1940-4d9b-ae24-1a37f3d5f660",
        "colab": {
          "base_uri": "https://localhost:8080/"
        }
      },
      "source": [
        "def batch(vsongs, seqlen, bsize):\n",
        "  highest_start_index = vsongs.shape[0] - 1 - seqlen\n",
        "  start_indices = np.random.choice(highest_start_index, bsize)\n",
        "\n",
        "  input = [vsongs[i : i+seqlen] for i in start_indices]\n",
        "  output = [vsongs[i+1 : i+1+seqlen] for i in start_indices]\n",
        "\n",
        "  input = np.reshape(input, [bsize, seqlen])\n",
        "  output = np.reshape(output, [bsize, seqlen])\n",
        "\n",
        "  return input, output\n",
        "\n",
        "testin, testout = batch(vsongs, 5, 2)\n",
        "#observe how testout is shifted one num forward from testin\n",
        "print(testin)\n",
        "print(testout)"
      ],
      "execution_count": 31,
      "outputs": [
        {
          "output_type": "stream",
          "text": [
            "[[36  3 93  3 40]\n",
            " [ 3 93  3 66 22]]\n",
            "[[ 3 93  3 40 36]\n",
            " [93  3 66 22 15]]\n"
          ],
          "name": "stdout"
        }
      ]
    },
    {
      "cell_type": "code",
      "metadata": {
        "id": "lYN3-Ty6GT2U",
        "outputId": "7e972eae-d812-4a23-ae39-4186ef302890",
        "colab": {
          "base_uri": "https://localhost:8080/"
        }
      },
      "source": [
        "#more testing, remove later\n",
        "\n",
        "x_batch, y_batch = batch(vsongs, seqlen=5, bsize=1)\n",
        "\n",
        "for i, (input_idx, target_idx) in enumerate(zip(np.squeeze(x_batch), np.squeeze(y_batch))):\n",
        "    print(\"Step {:3d}\".format(i))\n",
        "    print(\"  input: {} ({:s})\".format(input_idx, repr(num_char_map[input_idx])))\n",
        "    print(\"  expected output: {} ({:s})\".format(target_idx, repr(num_char_map[target_idx])))"
      ],
      "execution_count": 32,
      "outputs": [
        {
          "output_type": "stream",
          "text": [
            "Step   0\n",
            "  input: 93 ('|')\n",
            "  expected output: 3 (' ')\n",
            "Step   1\n",
            "  input: 3 (' ')\n",
            "  expected output: 5 ('\"')\n",
            "Step   2\n",
            "  input: 5 ('\"')\n",
            "  expected output: 35 ('A')\n",
            "Step   3\n",
            "  input: 35 ('A')\n",
            "  expected output: 5 ('\"')\n",
            "Step   4\n",
            "  input: 5 ('\"')\n",
            "  expected output: 70 ('e')\n"
          ],
          "name": "stdout"
        }
      ]
    },
    {
      "cell_type": "markdown",
      "metadata": {
        "id": "ii4VaUOwL-zu"
      },
      "source": [
        "## Setup Tensorflow and our ML env"
      ]
    },
    {
      "cell_type": "code",
      "metadata": {
        "id": "grPcgZeLhruq"
      },
      "source": [
        "%tensorflow_version 2.x\n",
        "import tensorflow as tf \n",
        "from tensorflow import keras\n",
        "\n",
        "# Check that we are using a GPU, if not switch runtimes\n",
        "#   using Runtime > Change Runtime Type > GPU\n",
        "assert len(tf.config.list_physical_devices('GPU')) > 0"
      ],
      "execution_count": 33,
      "outputs": []
    },
    {
      "cell_type": "code",
      "metadata": {
        "id": "ERoz9aLNEzyK"
      },
      "source": [
        "## Set up the RNN model\n",
        "def LSTM(rnn_units): \n",
        "  return keras.layers.LSTM(\n",
        "    rnn_units, \n",
        "    return_sequences=True, \n",
        "    recurrent_initializer='glorot_uniform',\n",
        "    recurrent_activation='sigmoid',\n",
        "    stateful=True,\n",
        "  )\n",
        "\n",
        "## Build the RNN Model\n",
        "def build_RNN_model(vocab_size, embedding_dim, rnn_units, batch_size):\n",
        "  model = keras.Sequential([\n",
        "    # 1: Embedding layer to transform indices into dense vectors of a fixed embedding size\n",
        "    keras.layers.Embedding(vocab_size, embedding_dim, batch_input_shape=[batch_size, None]),\n",
        "    # 2: LSTM with rnn_units number of units\n",
        "    LSTM(rnn_units),\n",
        "    # 3: Dense layer that transform the LSTM output into the vocab_size\n",
        "    keras.layers.Dense(vocab_size)\n",
        "  ])\n",
        "  return model\n",
        "\n",
        "# Build model with default hyperparameters which can be modified\n",
        "model = build_RNN_model(len(uniq_chars), embedding_dim=256, rnn_units=1024, batch_size=32)"
      ],
      "execution_count": 34,
      "outputs": []
    },
    {
      "cell_type": "markdown",
      "metadata": {
        "id": "V3Yk4kCHyHtp"
      },
      "source": [
        "### Test the RNN Model"
      ]
    },
    {
      "cell_type": "code",
      "metadata": {
        "id": "c60iKQWLyR6V",
        "outputId": "c3cdfa42-5abe-48bd-bb5a-2362913602ca",
        "colab": {
          "base_uri": "https://localhost:8080/"
        }
      },
      "source": [
        "## Prints out a summary of the model so we can check for its layers, shapes, batch sizes, etc.\n",
        "model.summary()\n",
        "\n",
        "## Check output dimemsionality\n",
        "x, y = batch(vsongs, seqlen=50, bsize=32)\n",
        "pred = model(x)\n",
        "print(\"Input shape: \", x.shape)\n",
        "print(\"Prediction shape: \", pred.shape)\n",
        "\n",
        "## Check the prediction of the untrained RNN model using categorical distribution\n",
        "random_indices = tf.random.categorical(pred[0], num_samples=1)\n",
        "random_indices = tf.squeeze(random_indices, axis=-1).numpy()\n",
        "random_indices\n",
        "\n",
        "## decode the prediction from the unntrained RNN model\n",
        "## We should expect a prediction that does not make much sense as it is untrained\n",
        "index2char = np.array(uniq_chars)\n",
        "print(\"Input: \\n\", repr(\"\".join(index2char[x[0]])))\n",
        "print(\"Predicted next char: \\n\", repr(\"\".join(index2char[random_indices])))"
      ],
      "execution_count": 35,
      "outputs": [
        {
          "output_type": "stream",
          "text": [
            "Model: \"sequential_7\"\n",
            "_________________________________________________________________\n",
            "Layer (type)                 Output Shape              Param #   \n",
            "=================================================================\n",
            "embedding_7 (Embedding)      (32, None, 256)           28672     \n",
            "_________________________________________________________________\n",
            "lstm_7 (LSTM)                (32, None, 1024)          5246976   \n",
            "_________________________________________________________________\n",
            "dense_7 (Dense)              (32, None, 112)           114800    \n",
            "=================================================================\n",
            "Total params: 5,390,448\n",
            "Trainable params: 5,390,448\n",
            "Non-trainable params: 0\n",
            "_________________________________________________________________\n",
            "Input shape:  (32, 50)\n",
            "Prediction shape:  (32, 50, 112)\n",
            "Input: \n",
            " 'd-freebsd\\nLast-Modified: Sun, 27 Apr 2014 23:56:38'\n",
            "Predicted next char: \n",
            " 'B“\\\\E57465)eçfO>lq#çJL/\\n,!;qrA3@pWk&4“mâ,–-N\\\\V[Z\\ty('\n"
          ],
          "name": "stdout"
        }
      ]
    },
    {
      "cell_type": "markdown",
      "metadata": {
        "id": "v9HyiGPfK9I-"
      },
      "source": [
        "### Training the RNN model"
      ]
    },
    {
      "cell_type": "code",
      "metadata": {
        "id": "4yhZCw0rLAtH",
        "outputId": "c1d7fb33-13fb-4737-9f57-39870a2e37bf",
        "colab": {
          "base_uri": "https://localhost:8080/"
        }
      },
      "source": [
        "## Train with sparse_categorical_corssentropy loss which uses integer targets for categorical classificiation tasks\n",
        "## logits: predictions\n",
        "\n",
        "def get_loss(labels, logits):\n",
        "  return keras.losses.sparse_categorical_crossentropy(labels, logits, from_logits=True)\n",
        "\n",
        "sample_loss = get_loss(y, pred) # from the sample prediction in the above section\n",
        "print(\"Scalar loss: \", sample_loss.numpy().mean())\n"
      ],
      "execution_count": 36,
      "outputs": [
        {
          "output_type": "stream",
          "text": [
            "Scalar loss:  4.719783\n"
          ],
          "name": "stdout"
        }
      ]
    },
    {
      "cell_type": "markdown",
      "metadata": {
        "id": "2y8SXzO4MERy"
      },
      "source": [
        "### Hyperparameters\n",
        "\n",
        "Write down the values you used and what you got for average. \n",
        "Pick high, mid and low values in the range given by the MIT lab.\n",
        "- batch_size (2: 14% (5-28), 10: 39% (33-49), 50: 25% (12-37) --- overall diff. 39-14 = 25)\n",
        "- training_cycles (1000: 29% (21-37), 2000: 39% (28-49), 3000: 40% (26-56) --- overall diff. 40-29 = 11)\n",
        "- rnn_units(128: 31%(23-44), 256: 36%(23-49), 512: 41%(28-56), 800: 38%(21-49), 1024: 10%(2-23), overall diff 41-10=31)\n",
        "- learning_rate(1e-5: 1%(0-5), 2e-3: 46%(30-48), 3e-3: 42%(33-49), 4e-3: 38%(30-47), 5e-3: 42%(28-51), 3e-2(24%(14-35), overall diff 46-24=22)\n",
        "- seq_len(50: 33%(19-47), 100: 37%(28-49), 200: 27%(14-35), 250: 40%(26-49), 300: 45%(33-53)500: 39%(28-51), overall diff 45-27=18)\n",
        "\n",
        "\n",
        "Default start values:\n",
        "\n",
        "Optimization parameters:\n",
        "- num_training_iterations = 2000  # Increase this to train longer\n",
        "- batch_size = 4  # Experiment between 1 and 64\n",
        "- seq_length = 100  # Experiment between 50 and 500\n",
        "- learning_rate = 5e-3  # Experiment between 1e-5 and 1e-1\n",
        "\n",
        "Model parameters: \n",
        "- vocab_size = len(vocab)\n",
        "- embedding_dim = 256 \n",
        "- rnn_units = 1024  # Experiment between 1 and 2048"
      ]
    },
    {
      "cell_type": "code",
      "metadata": {
        "id": "KsnRRQTZMKJF"
      },
      "source": [
        "### Define hyperarameters\n",
        "# Model params\n",
        "rnn_units = 512 # suggeted range: 1 - 2048, default: 1024\n",
        "uniq_chars_len = len(uniq_chars)\n",
        "embedding_dim = 256\n",
        "\n",
        "# Optimization params\n",
        "training_cycles = 3000 # increase to make longer trainings default: 2000\n",
        "batch_size = 10 # suggested range: 1 - 64 default 4\n",
        "seq_len = 300 # suggested range: 50 - 500 default 100\n",
        "learning_rate = 2e-3 # suggested range: 1e-5 - 1e-1, default: 5e-3\n",
        "\n",
        "# Checkpoint location\n",
        "ckpt_dir = './training_checkpoints'\n",
        "ckpt_prefix = os.path.join(ckpt_dir, \"ckpt\")\n",
        "\n",
        "# A flag to indicate if we want to use the whole song\n",
        "ISOBJTESTING = False"
      ],
      "execution_count": 138,
      "outputs": []
    },
    {
      "cell_type": "markdown",
      "metadata": {
        "id": "NquML4EOxHGj"
      },
      "source": [
        "# Objective Test\n",
        "Run this cell for objective testing only."
      ]
    },
    {
      "cell_type": "code",
      "metadata": {
        "id": "cfVGma7pxLI4",
        "outputId": "25bd4d37-b6eb-49c6-b3b9-eac2c1dd83c5",
        "colab": {
          "base_uri": "https://localhost:8080/"
        }
      },
      "source": [
        "# divide strings into training and validation sets\n",
        "def split_training_validation(all_songs):\n",
        "  training_set = []\n",
        "  validation_set = []\n",
        "  for i in range(0, len(all_songs)):\n",
        "    if i % 10 == 0:\n",
        "      validation_set.append(all_songs[i])\n",
        "    else:\n",
        "      training_set.append(all_songs[i])\n",
        "  return training_set, validation_set\n",
        "\n",
        "# combine songs into one long string \n",
        "training_set, validation_set = split_training_validation(allSongs)\n",
        "print(len(training_set))\n",
        "print(len(validation_set))\n",
        "training_combined = spacing.join(training_set)\n",
        "# vectorize combined_songs\n",
        "v_training = np.array([char_num_map[c] for c in training_combined])\n",
        "\n",
        "ISOBJTESTING = True\n",
        "\n"
      ],
      "execution_count": 139,
      "outputs": [
        {
          "output_type": "stream",
          "text": [
            "380\n",
            "43\n"
          ],
          "name": "stdout"
        }
      ]
    },
    {
      "cell_type": "markdown",
      "metadata": {
        "id": "0YQ8CwNPN-NV"
      },
      "source": [
        "### Train the RNN model"
      ]
    },
    {
      "cell_type": "code",
      "metadata": {
        "id": "FuQnoULyOAVw",
        "outputId": "b6f575c1-0a8e-4a59-de79-6e51f4f419a5",
        "colab": {
          "base_uri": "https://localhost:8080/"
        }
      },
      "source": [
        "from tqdm import tqdm # progress bar\n",
        "\n",
        "rnn_model = build_RNN_model(uniq_chars_len, embedding_dim, rnn_units, batch_size)\n",
        "optimizer = keras.optimizers.Adam(learning_rate)\n",
        "\n",
        "@tf.function\n",
        "def step(x, y):\n",
        "  with tf.GradientTape() as tape:\n",
        "    y_hat = rnn_model(x)\n",
        "    loss = get_loss(y, y_hat)\n",
        "    gradients = tape.gradient(loss, rnn_model.trainable_variables)\n",
        "    optimizer.apply_gradients(zip(gradients, rnn_model.trainable_variables))\n",
        "    return loss\n",
        "\n",
        "# clear if there is progress bar instance\n",
        "if hasattr(tqdm, '_instances') : tqdm._instances.clear()\n",
        "\n",
        "## Start training\n",
        "history = []\n",
        "\n",
        "for i in tqdm(range(training_cycles)):\n",
        "  x_batch = []\n",
        "  y_batch = []\n",
        "  # using the whole data set for training\n",
        "  if not ISOBJTESTING:\n",
        "    x_batch, y_batch = batch(vsongs, seq_len, batch_size)\n",
        "  # using 90% of the data set\n",
        "  else:\n",
        "    x_batch, y_batch = batch(v_training, seq_len, batch_size)\n",
        "  loss = step(x_batch, y_batch)\n",
        "  history.append(loss.numpy().mean())\n",
        "  # Update model with updated weights\n",
        "  if i%seq_len == 0:\n",
        "    rnn_model.save_weights(ckpt_prefix)\n",
        "\n",
        "# save model\n",
        "rnn_model.save_weights(ckpt_prefix)\n",
        "# print(rnn_model.layers[0].get_weights()[0])"
      ],
      "execution_count": 140,
      "outputs": [
        {
          "output_type": "stream",
          "text": [
            "100%|██████████| 3000/3000 [01:58<00:00, 25.26it/s]\n"
          ],
          "name": "stderr"
        }
      ]
    },
    {
      "cell_type": "markdown",
      "metadata": {
        "id": "XnhMJikHa-7a"
      },
      "source": [
        "# Restore the lastest checkpoint\n",
        "\n"
      ]
    },
    {
      "cell_type": "code",
      "metadata": {
        "id": "5Gg0XXU4bK0v",
        "outputId": "4df0755e-3fb9-47a1-a98a-b9d5688c869b",
        "colab": {
          "base_uri": "https://localhost:8080/"
        }
      },
      "source": [
        "rnn_model = build_RNN_model(uniq_chars_len, embedding_dim, rnn_units, batch_size=1)\n",
        "rnn_model.load_weights(tf.train.latest_checkpoint(ckpt_dir))\n",
        "# print(rnn_model.layers[0].get_weights()[0])\n",
        "rnn_model.build(tf.TensorShape([1, None]))\n",
        "rnn_model.summary()"
      ],
      "execution_count": 141,
      "outputs": [
        {
          "output_type": "stream",
          "text": [
            "Model: \"sequential_43\"\n",
            "_________________________________________________________________\n",
            "Layer (type)                 Output Shape              Param #   \n",
            "=================================================================\n",
            "embedding_43 (Embedding)     (1, None, 256)            28672     \n",
            "_________________________________________________________________\n",
            "lstm_43 (LSTM)               (1, None, 512)            1574912   \n",
            "_________________________________________________________________\n",
            "dense_43 (Dense)             (1, None, 112)            57456     \n",
            "=================================================================\n",
            "Total params: 1,661,040\n",
            "Trainable params: 1,661,040\n",
            "Non-trainable params: 0\n",
            "_________________________________________________________________\n"
          ],
          "name": "stdout"
        }
      ]
    },
    {
      "cell_type": "markdown",
      "metadata": {
        "id": "kCBeW9Hkos5d"
      },
      "source": [
        "# Generate result"
      ]
    },
    {
      "cell_type": "code",
      "metadata": {
        "id": "p4JaflbGop9M"
      },
      "source": [
        "def generate_text(model, start_string, len=1000):\n",
        "  input_vector = [char_num_map[s] for s in start_string]\n",
        "  input_vector = tf.expand_dims(input_vector, 0)\n",
        "  text_generated = []\n",
        "  model.reset_states()\n",
        "  tqdm._instances.clear()\n",
        "\n",
        "  for i in range(len):\n",
        "    predictions = model(input_vector)\n",
        "    predictions = tf.squeeze(predictions, 0)\n",
        "    predicted_id = tf.random.categorical(predictions, num_samples=1)[-1, 0].numpy()\n",
        "    input_vector = tf.expand_dims([predicted_id], 0)\n",
        "    text_generated.append(num_char_map[predicted_id])\n",
        "  \n",
        "  return (start_string + ''.join(text_generated))"
      ],
      "execution_count": 142,
      "outputs": []
    },
    {
      "cell_type": "markdown",
      "metadata": {
        "id": "Zfk_nnS5gf6F"
      },
      "source": [
        "# Prediction\n",
        "Run this cell to calculate accuracy."
      ]
    },
    {
      "cell_type": "code",
      "metadata": {
        "id": "HaIsphFkgj_b",
        "outputId": "c811ecb1-7690-49bd-bddc-fc169d79f232",
        "colab": {
          "base_uri": "https://localhost:8080/"
        }
      },
      "source": [
        "def find_first_n_in_tune(song, n):\n",
        "  key_index = song.find('K:')\n",
        "  tune_index = song.find('\\n', key_index) + 1\n",
        "  # uncomment this if you only want the seed to include characters in the song\n",
        "  # seed = song[tune_index: tune_index + n]\n",
        "  # using everything up to the nth character of the song itself\n",
        "  seed = song[:tune_index + n]\n",
        "  return tune_index, seed\n",
        "\n",
        "def find_accuracy(songs, n):\n",
        "  correct = 0\n",
        "  total = 0\n",
        "  for song in songs:\n",
        "    tune_index, seed = find_first_n_in_tune(song, n)\n",
        "    if tune_index + n > len(song):\n",
        "      print(\"INDEX OUT OF RANGE, SKIPPING\\n\")\n",
        "      continue\n",
        "    char_generated = generate_text(rnn_model, start_string=seed, len = 1)[-1]\n",
        "    char_expected = song[tune_index + n]\n",
        "    if char_generated == char_expected:\n",
        "      correct += 1\n",
        "    total += 1\n",
        "   # print(song)\n",
        "   # print(\"seed: \\\"\" + seed + \"\\\" expected: \\\"\" + char_expected + \"\\\" prediction: \\\"\" + char_generated + '\\\"\\n')\n",
        "  return correct/total\n",
        "\n",
        "# generated_text = generate_text(rnn_model, start_string=':', len=1000)\n",
        "if ISOBJTESTING:\n",
        "# Choose the seed as the first 8 tokens of a tune from our validation dataset\n",
        "  outputs = []\n",
        "  sum = 0\n",
        "  for i in range(50):\n",
        "    accuracy = find_accuracy(validation_set, 8)\n",
        "    # print(\"\\nAccuracy = {0:.0%}\".format(accuracy))\n",
        "    outputs.append(accuracy)\n",
        "    sum += accuracy\n",
        "\n",
        "  average = sum / 50.0\n",
        "  print(\"\\nAverage = {0:.0%}\".format(average))\n",
        "  print(\"\\nMin: {0:.0%}\".format(min(outputs)))\n",
        "  print(\"\\nMax: {0:.0%}\".format(max(outputs)))\n",
        "  \n",
        "  \n",
        "\n",
        "\n",
        "\n",
        "  "
      ],
      "execution_count": 143,
      "outputs": [
        {
          "output_type": "stream",
          "text": [
            "\n",
            "Average = 50%\n",
            "\n",
            "Min: 37%\n",
            "\n",
            "Max: 60%\n"
          ],
          "name": "stdout"
        }
      ]
    },
    {
      "cell_type": "markdown",
      "metadata": {
        "id": "4zIGizOTo9Sm"
      },
      "source": [
        "# Output"
      ]
    },
    {
      "cell_type": "code",
      "metadata": {
        "id": "2xLLRUBZpDSw",
        "outputId": "27915484-bf29-4e98-b483-9bdb8ae30fb7",
        "colab": {
          "base_uri": "https://localhost:8080/"
        }
      },
      "source": [
        "generated_text = generate_text(rnn_model, start_string='X', len=1000)\n",
        "print('\\n' + generated_text)"
      ],
      "execution_count": 153,
      "outputs": [
        {
          "output_type": "stream",
          "text": [
            "\n",
            "X:1\n",
            "Q:1/46\n",
            "K:G\n",
            "D2B,D GBAG | FDDD A,DDG (3ABA|Gg3e dBGB|e2de dBGB|e2 ef egfe|dcde fdBd|cBcd c2 GA:|2Bcde f2dB||\n",
            "\n",
            "\n",
            "X:1\n",
            "T:Reel de la Pistrol, Andy DF |]\n",
            "\n",
            "X:153\n",
            "T:Louis Waltz\n",
            "R:Waltz\n",
            "C:Trad.\n",
            "O:Canada\n",
            "M:3/4\n",
            "L:1/8\n",
            "Q:1/4=120\n",
            "F:http://trillian.mit.edu/~jc/music/abc/mirror/gud.com/French_CDEprilan.mit.ed Beaudry\n",
            "N:Steph Oninoux (New Yandes Ow https://4\n",
            "K:D\n",
            "P:A\n",
            "D2 |D2 DE FE| F2 FE A|DFA d2ef|gecA BABc|d2 fd ed B2||\n",
            "\n",
            "\n",
            "X: 1\n",
            "T:Valse a Calier\n",
            "C:Richard Forest\n",
            "S:Marche Picor\n",
            "O: Dor Messern Blan Rephsine (1924)\n",
            "D:http://www.collectionscanada.ca/obj/m2/f7/1359/8c3/4C2C9/4C5/8=A] z/8 [^C/8^g13/4z5/4] [=C/8^A,5/4f5/4A9/8]\n",
            "[G1/8z/2] [f5/8z/8] [e11/4E5/4^G19/8] \"E9/8 z/8 [F,11/8^FD9/8] z3/8 [E9/8g/2] [G5/4B17/8c13/8z] z/8 [e5/8z/8] [f5/4z/8] [e9/8^C9/8z5/8]\n",
            "[G,/8G/8] [B,19/8z/2] [C9/8c9/8=e7/2=F45/8c29/8] z/8 [d9/8B,5/4z5/8] [^f5/8z/8]\n",
            "[G,19/8d15/8z/2] [F5/2A13/4c13/4E19/8] z3/2 [d3/4A/8]\n",
            "[G13/8G,9/8B9/8] [e3/8z/8] [A,5/2A13/8z5/4] A,/8 [g13/8B,G77/8c3/4] z/8 [e3/8z/4] [G,/8d5/4B5/4z9/8] [^f/8\n",
            "[c9/8F95/8c9/\n"
          ],
          "name": "stdout"
        }
      ]
    }
  ]
}